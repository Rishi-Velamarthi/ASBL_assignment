{
 "cells": [
  {
   "cell_type": "code",
   "execution_count": 2,
   "id": "91f01b11",
   "metadata": {},
   "outputs": [],
   "source": [
    "import pandas as pd\n",
    "import seaborn as sns\n",
    "import matplotlib.pyplot as plt\n",
    "import numpy as np"
   ]
  },
  {
   "cell_type": "code",
   "execution_count": 3,
   "id": "01f57876",
   "metadata": {},
   "outputs": [],
   "source": [
    "data_dir = \"digital_wallet_transactions.csv\""
   ]
  },
  {
   "cell_type": "code",
   "execution_count": 190,
   "id": "4744b8b1",
   "metadata": {
    "scrolled": true
   },
   "outputs": [
    {
     "data": {
      "text/html": [
       "<div>\n",
       "<style scoped>\n",
       "    .dataframe tbody tr th:only-of-type {\n",
       "        vertical-align: middle;\n",
       "    }\n",
       "\n",
       "    .dataframe tbody tr th {\n",
       "        vertical-align: top;\n",
       "    }\n",
       "\n",
       "    .dataframe thead th {\n",
       "        text-align: right;\n",
       "    }\n",
       "</style>\n",
       "<table border=\"1\" class=\"dataframe\">\n",
       "  <thead>\n",
       "    <tr style=\"text-align: right;\">\n",
       "      <th></th>\n",
       "      <th>idx</th>\n",
       "      <th>transaction_id</th>\n",
       "      <th>user_id</th>\n",
       "      <th>transaction_date</th>\n",
       "      <th>product_category</th>\n",
       "      <th>product_name</th>\n",
       "      <th>merchant_name</th>\n",
       "      <th>product_amount</th>\n",
       "      <th>transaction_fee</th>\n",
       "      <th>cashback</th>\n",
       "      <th>loyalty_points</th>\n",
       "      <th>payment_method</th>\n",
       "      <th>transaction_status</th>\n",
       "      <th>merchant_id</th>\n",
       "      <th>device_type</th>\n",
       "      <th>location</th>\n",
       "    </tr>\n",
       "  </thead>\n",
       "  <tbody>\n",
       "    <tr>\n",
       "      <th>0</th>\n",
       "      <td>1</td>\n",
       "      <td>4dac3ea3-6492-46ec-80b8-dc45c3ad0b14</td>\n",
       "      <td>USER_05159</td>\n",
       "      <td>2023-08-19 03:32:00</td>\n",
       "      <td>Rent Payment</td>\n",
       "      <td>2BHK Flat Deposit</td>\n",
       "      <td>Airbnb</td>\n",
       "      <td>1525.39</td>\n",
       "      <td>36.69</td>\n",
       "      <td>19.19</td>\n",
       "      <td>186</td>\n",
       "      <td>Debit Card</td>\n",
       "      <td>Successful</td>\n",
       "      <td>MERCH_0083</td>\n",
       "      <td>iOS</td>\n",
       "      <td>Urban</td>\n",
       "    </tr>\n",
       "    <tr>\n",
       "      <th>1</th>\n",
       "      <td>2</td>\n",
       "      <td>a903ed9f-eb84-47e7-b8aa-fd1786c919cf</td>\n",
       "      <td>USER_07204</td>\n",
       "      <td>2023-08-19 04:37:00</td>\n",
       "      <td>Gas Bill</td>\n",
       "      <td>Commercial Gas Connection</td>\n",
       "      <td>Adani Gas</td>\n",
       "      <td>1495.40</td>\n",
       "      <td>28.19</td>\n",
       "      <td>89.99</td>\n",
       "      <td>182</td>\n",
       "      <td>UPI</td>\n",
       "      <td>Successful</td>\n",
       "      <td>MERCH_0163</td>\n",
       "      <td>iOS</td>\n",
       "      <td>Urban</td>\n",
       "    </tr>\n",
       "    <tr>\n",
       "      <th>2</th>\n",
       "      <td>3</td>\n",
       "      <td>2a393013-733c-4add-9f09-bed1eeb33676</td>\n",
       "      <td>USER_00903</td>\n",
       "      <td>2023-08-19 05:52:00</td>\n",
       "      <td>Bus Ticket</td>\n",
       "      <td>Semi-Sleeper</td>\n",
       "      <td>MakeMyTrip Bus</td>\n",
       "      <td>1267.71</td>\n",
       "      <td>11.36</td>\n",
       "      <td>95.70</td>\n",
       "      <td>994</td>\n",
       "      <td>UPI</td>\n",
       "      <td>Successful</td>\n",
       "      <td>MERCH_0320</td>\n",
       "      <td>iOS</td>\n",
       "      <td>Urban</td>\n",
       "    </tr>\n",
       "  </tbody>\n",
       "</table>\n",
       "</div>"
      ],
      "text/plain": [
       "   idx                        transaction_id     user_id    transaction_date  \\\n",
       "0    1  4dac3ea3-6492-46ec-80b8-dc45c3ad0b14  USER_05159 2023-08-19 03:32:00   \n",
       "1    2  a903ed9f-eb84-47e7-b8aa-fd1786c919cf  USER_07204 2023-08-19 04:37:00   \n",
       "2    3  2a393013-733c-4add-9f09-bed1eeb33676  USER_00903 2023-08-19 05:52:00   \n",
       "\n",
       "  product_category               product_name   merchant_name  product_amount  \\\n",
       "0     Rent Payment          2BHK Flat Deposit          Airbnb         1525.39   \n",
       "1         Gas Bill  Commercial Gas Connection       Adani Gas         1495.40   \n",
       "2       Bus Ticket               Semi-Sleeper  MakeMyTrip Bus         1267.71   \n",
       "\n",
       "   transaction_fee  cashback  loyalty_points payment_method  \\\n",
       "0            36.69     19.19             186     Debit Card   \n",
       "1            28.19     89.99             182            UPI   \n",
       "2            11.36     95.70             994            UPI   \n",
       "\n",
       "  transaction_status merchant_id device_type location  \n",
       "0         Successful  MERCH_0083         iOS    Urban  \n",
       "1         Successful  MERCH_0163         iOS    Urban  \n",
       "2         Successful  MERCH_0320         iOS    Urban  "
      ]
     },
     "execution_count": 190,
     "metadata": {},
     "output_type": "execute_result"
    }
   ],
   "source": [
    "df = pd.read_csv(data_dir, parse_dates=['transaction_date'])\n",
    "df.head(3)"
   ]
  },
  {
   "cell_type": "code",
   "execution_count": 204,
   "id": "f87b6857",
   "metadata": {},
   "outputs": [],
   "source": [
    "weekly_transactions = df.groupby(df['transaction_date'].dt.to_period('W')).size().reset_index(name='transaction_count')\n",
    "monthly_transactions = df.groupby(df['transaction_date'].dt.to_period('M')).size().reset_index(name='transaction_count')"
   ]
  },
  {
   "cell_type": "markdown",
   "id": "225cbfc3",
   "metadata": {},
   "source": [
    "#  Active Users & Count of transactions per user"
   ]
  },
  {
   "cell_type": "code",
   "execution_count": 13,
   "id": "952cc154",
   "metadata": {},
   "outputs": [
    {
     "data": {
      "text/plain": [
       "Text(0.5, 1.0, 'Weekly Transactions Activity')"
      ]
     },
     "execution_count": 13,
     "metadata": {},
     "output_type": "execute_result"
    },
    {
     "data": {
      "image/png": "[encoded data removed]",
      "text/plain": [
       "<Figure size 640x480 with 1 Axes>"
      ]
     },
     "metadata": {},
     "output_type": "display_data"
    }
   ],
   "source": [
    "sns.lineplot( data=weekly_transactions)  # weekly transactions activity over time\n",
    "plt.title('Weekly Transactions Activity')"
   ]
  },
  {
   "cell_type": "code",
   "execution_count": 206,
   "id": "4043f5e0",
   "metadata": {},
   "outputs": [
    {
     "data": {
      "text/plain": [
       "Text(0.5, 1.0, 'Monthly Transactions Activity')"
      ]
     },
     "execution_count": 206,
     "metadata": {},
     "output_type": "execute_result"
    },
    {
     "data": {
      "image/png": "[encoded data removed]",
      "text/plain": [
       "<Figure size 640x480 with 1 Axes>"
      ]
     },
     "metadata": {},
     "output_type": "display_data"
    }
   ],
   "source": [
    "sns.lineplot( data=monthly_transactions)  # weekly transactions activity over time\n",
    "plt.title('Monthly Transactions Activity')"
   ]
  },
  {
   "cell_type": "markdown",
   "id": "200f4010",
   "metadata": {},
   "source": [
    "## Weekly Active users are varying between 80-110 but no exponential improvement overtime"
   ]
  },
  {
   "cell_type": "markdown",
   "id": "3b1c7705",
   "metadata": {},
   "source": [
    "# Users with multiple transactions"
   ]
  },
  {
   "cell_type": "code",
   "execution_count": 14,
   "id": "810bbb07",
   "metadata": {},
   "outputs": [],
   "source": [
    "user_frequency = df.groupby(\"user_id\").size().reset_index(name='transaction_count')"
   ]
  },
  {
   "cell_type": "code",
   "execution_count": 120,
   "id": "08840272",
   "metadata": {},
   "outputs": [
    {
     "data": {
      "text/html": [
       "<div>\n",
       "<style scoped>\n",
       "    .dataframe tbody tr th:only-of-type {\n",
       "        vertical-align: middle;\n",
       "    }\n",
       "\n",
       "    .dataframe tbody tr th {\n",
       "        vertical-align: top;\n",
       "    }\n",
       "\n",
       "    .dataframe thead th {\n",
       "        text-align: right;\n",
       "    }\n",
       "</style>\n",
       "<table border=\"1\" class=\"dataframe\">\n",
       "  <thead>\n",
       "    <tr style=\"text-align: right;\">\n",
       "      <th></th>\n",
       "      <th>transaction_count</th>\n",
       "      <th>user_count</th>\n",
       "    </tr>\n",
       "  </thead>\n",
       "  <tbody>\n",
       "    <tr>\n",
       "      <th>0</th>\n",
       "      <td>1</td>\n",
       "      <td>3029</td>\n",
       "    </tr>\n",
       "    <tr>\n",
       "      <th>1</th>\n",
       "      <td>2</td>\n",
       "      <td>759</td>\n",
       "    </tr>\n",
       "    <tr>\n",
       "      <th>2</th>\n",
       "      <td>3</td>\n",
       "      <td>123</td>\n",
       "    </tr>\n",
       "    <tr>\n",
       "      <th>3</th>\n",
       "      <td>4</td>\n",
       "      <td>21</td>\n",
       "    </tr>\n",
       "  </tbody>\n",
       "</table>\n",
       "</div>"
      ],
      "text/plain": [
       "   transaction_count  user_count\n",
       "0                  1        3029\n",
       "1                  2         759\n",
       "2                  3         123\n",
       "3                  4          21"
      ]
     },
     "execution_count": 120,
     "metadata": {},
     "output_type": "execute_result"
    }
   ],
   "source": [
    "user_frequency.groupby(\"transaction_count\").size().reset_index(name='user_count').sort_values(by='transaction_count')"
   ]
  },
  {
   "cell_type": "markdown",
   "id": "2098b83b-aa35-4d1b-817e-422d39fa875b",
   "metadata": {},
   "source": [
    "## Observation : 3000 users out of 5000 total transactions are one time customers which indicates high churn risk"
   ]
  },
  {
   "cell_type": "markdown",
   "id": "f221143f-9763-4534-b6b6-6797ea426e75",
   "metadata": {},
   "source": [
    "# Identifying Repeat Users"
   ]
  },
  {
   "cell_type": "code",
   "execution_count": 68,
   "id": "51e3acdf",
   "metadata": {},
   "outputs": [],
   "source": [
    "target_min_repetition = 2\n",
    "repeat_users = user_frequency[user_frequency['transaction_count']  >= target_min_repetition][\"user_id\"].values"
   ]
  },
  {
   "cell_type": "code",
   "execution_count": 193,
   "id": "c18a4852",
   "metadata": {},
   "outputs": [
    {
     "data": {
      "text/html": [
       "<div>\n",
       "<style scoped>\n",
       "    .dataframe tbody tr th:only-of-type {\n",
       "        vertical-align: middle;\n",
       "    }\n",
       "\n",
       "    .dataframe tbody tr th {\n",
       "        vertical-align: top;\n",
       "    }\n",
       "\n",
       "    .dataframe thead th {\n",
       "        text-align: right;\n",
       "    }\n",
       "</style>\n",
       "<table border=\"1\" class=\"dataframe\">\n",
       "  <thead>\n",
       "    <tr style=\"text-align: right;\">\n",
       "      <th></th>\n",
       "      <th>idx</th>\n",
       "      <th>transaction_id</th>\n",
       "      <th>user_id</th>\n",
       "      <th>transaction_date</th>\n",
       "      <th>product_category</th>\n",
       "      <th>product_name</th>\n",
       "      <th>merchant_name</th>\n",
       "      <th>product_amount</th>\n",
       "      <th>transaction_fee</th>\n",
       "      <th>cashback</th>\n",
       "      <th>loyalty_points</th>\n",
       "      <th>payment_method</th>\n",
       "      <th>transaction_status</th>\n",
       "      <th>merchant_id</th>\n",
       "      <th>device_type</th>\n",
       "      <th>location</th>\n",
       "    </tr>\n",
       "  </thead>\n",
       "  <tbody>\n",
       "    <tr>\n",
       "      <th>6</th>\n",
       "      <td>7</td>\n",
       "      <td>89df83e5-98d3-4c0f-b273-59b0d057fc34</td>\n",
       "      <td>USER_05280</td>\n",
       "      <td>2023-08-19 07:15:00</td>\n",
       "      <td>Hotel Booking</td>\n",
       "      <td>Villa</td>\n",
       "      <td>Treebo</td>\n",
       "      <td>6688.17</td>\n",
       "      <td>49.62</td>\n",
       "      <td>22.18</td>\n",
       "      <td>58</td>\n",
       "      <td>UPI</td>\n",
       "      <td>Successful</td>\n",
       "      <td>MERCH_0441</td>\n",
       "      <td>Android</td>\n",
       "      <td>Urban</td>\n",
       "    </tr>\n",
       "    <tr>\n",
       "      <th>7</th>\n",
       "      <td>8</td>\n",
       "      <td>1a8ab910-657a-4e57-90ec-90420290e8a1</td>\n",
       "      <td>USER_03459</td>\n",
       "      <td>2023-08-19 07:57:00</td>\n",
       "      <td>Gas Bill</td>\n",
       "      <td>Piped Natural Gas</td>\n",
       "      <td>Adani Gas</td>\n",
       "      <td>1802.28</td>\n",
       "      <td>0.11</td>\n",
       "      <td>14.56</td>\n",
       "      <td>950</td>\n",
       "      <td>UPI</td>\n",
       "      <td>Successful</td>\n",
       "      <td>MERCH_0938</td>\n",
       "      <td>iOS</td>\n",
       "      <td>Urban</td>\n",
       "    </tr>\n",
       "    <tr>\n",
       "      <th>9</th>\n",
       "      <td>10</td>\n",
       "      <td>19c7d2d5-8566-42ba-95aa-8d803cfeeffd</td>\n",
       "      <td>USER_07264</td>\n",
       "      <td>2023-08-19 10:01:00</td>\n",
       "      <td>Insurance Premium</td>\n",
       "      <td>Term Life Policy</td>\n",
       "      <td>Max Life</td>\n",
       "      <td>2207.90</td>\n",
       "      <td>45.70</td>\n",
       "      <td>21.87</td>\n",
       "      <td>129</td>\n",
       "      <td>Wallet Balance</td>\n",
       "      <td>Successful</td>\n",
       "      <td>MERCH_0245</td>\n",
       "      <td>iOS</td>\n",
       "      <td>Urban</td>\n",
       "    </tr>\n",
       "  </tbody>\n",
       "</table>\n",
       "</div>"
      ],
      "text/plain": [
       "   idx                        transaction_id     user_id    transaction_date  \\\n",
       "6    7  89df83e5-98d3-4c0f-b273-59b0d057fc34  USER_05280 2023-08-19 07:15:00   \n",
       "7    8  1a8ab910-657a-4e57-90ec-90420290e8a1  USER_03459 2023-08-19 07:57:00   \n",
       "9   10  19c7d2d5-8566-42ba-95aa-8d803cfeeffd  USER_07264 2023-08-19 10:01:00   \n",
       "\n",
       "    product_category       product_name merchant_name  product_amount  \\\n",
       "6      Hotel Booking              Villa        Treebo         6688.17   \n",
       "7           Gas Bill  Piped Natural Gas     Adani Gas         1802.28   \n",
       "9  Insurance Premium   Term Life Policy      Max Life         2207.90   \n",
       "\n",
       "   transaction_fee  cashback  loyalty_points  payment_method  \\\n",
       "6            49.62     22.18              58             UPI   \n",
       "7             0.11     14.56             950             UPI   \n",
       "9            45.70     21.87             129  Wallet Balance   \n",
       "\n",
       "  transaction_status merchant_id device_type location  \n",
       "6         Successful  MERCH_0441     Android    Urban  \n",
       "7         Successful  MERCH_0938         iOS    Urban  \n",
       "9         Successful  MERCH_0245         iOS    Urban  "
      ]
     },
     "execution_count": 193,
     "metadata": {},
     "output_type": "execute_result"
    }
   ],
   "source": [
    "repeat_user_data = df[df['user_id'].isin(repeat_users)]\n",
    "repeat_user_data.head(3)"
   ]
  },
  {
   "cell_type": "code",
   "execution_count": 195,
   "id": "d2addf04",
   "metadata": {},
   "outputs": [
    {
     "data": {
      "text/plain": [
       "<Axes: xlabel='location', ylabel='count'>"
      ]
     },
     "execution_count": 195,
     "metadata": {},
     "output_type": "execute_result"
    },
    {
     "data": {
      "image/png": "[encoded data removed]",
      "text/plain": [
       "<Figure size 640x480 with 1 Axes>"
      ]
     },
     "metadata": {},
     "output_type": "display_data"
    }
   ],
   "source": [
    "sns.countplot(x=\"location\", data=df)  # Repeat user product category distribution"
   ]
  },
  {
   "cell_type": "code",
   "execution_count": 139,
   "id": "c0a656d5",
   "metadata": {
    "vscode": {
     "languageId": "ruby"
    }
   },
   "outputs": [
    {
     "data": {
      "text/html": [
       "<div>\n",
       "<style scoped>\n",
       "    .dataframe tbody tr th:only-of-type {\n",
       "        vertical-align: middle;\n",
       "    }\n",
       "\n",
       "    .dataframe tbody tr th {\n",
       "        vertical-align: top;\n",
       "    }\n",
       "\n",
       "    .dataframe thead th {\n",
       "        text-align: right;\n",
       "    }\n",
       "</style>\n",
       "<table border=\"1\" class=\"dataframe\">\n",
       "  <thead>\n",
       "    <tr style=\"text-align: right;\">\n",
       "      <th></th>\n",
       "      <th>location</th>\n",
       "      <th>repeat_percentage</th>\n",
       "    </tr>\n",
       "  </thead>\n",
       "  <tbody>\n",
       "    <tr>\n",
       "      <th>0</th>\n",
       "      <td>Rural</td>\n",
       "      <td>35.140562</td>\n",
       "    </tr>\n",
       "    <tr>\n",
       "      <th>1</th>\n",
       "      <td>Suburban</td>\n",
       "      <td>33.824975</td>\n",
       "    </tr>\n",
       "    <tr>\n",
       "      <th>2</th>\n",
       "      <td>Urban</td>\n",
       "      <td>23.758967</td>\n",
       "    </tr>\n",
       "  </tbody>\n",
       "</table>\n",
       "</div>"
      ],
      "text/plain": [
       "   location  repeat_percentage\n",
       "0     Rural          35.140562\n",
       "1  Suburban          33.824975\n",
       "2     Urban          23.758967"
      ]
     },
     "execution_count": 139,
     "metadata": {},
     "output_type": "execute_result"
    }
   ],
   "source": [
    "# Group by location for both dataframes\n",
    "repeat_counts = repeat_user_data.groupby('location')['user_id'].nunique().reset_index(name='repeat_count')\n",
    "total_users = df.groupby('location')['user_id'].nunique().reset_index(name='total_count')\n",
    "\n",
    "# Merge on location\n",
    "merged = pd.merge(repeat_counts, total_counts, on='location', how='left')\n",
    "\n",
    "# Calculate percentage\n",
    "merged['repeat_percentage'] = (merged['repeat_count'] / merged['total_count']) * 100\n",
    "merged[['location', 'repeat_percentage']].sort_values(by='repeat_percentage', ascending=False)"
   ]
  },
  {
   "cell_type": "code",
   "execution_count": 201,
   "id": "7546cc79",
   "metadata": {
    "vscode": {
     "languageId": "ruby"
    }
   },
   "outputs": [
    {
     "data": {
      "text/html": [
       "<div>\n",
       "<style scoped>\n",
       "    .dataframe tbody tr th:only-of-type {\n",
       "        vertical-align: middle;\n",
       "    }\n",
       "\n",
       "    .dataframe tbody tr th {\n",
       "        vertical-align: top;\n",
       "    }\n",
       "\n",
       "    .dataframe thead th {\n",
       "        text-align: right;\n",
       "    }\n",
       "</style>\n",
       "<table border=\"1\" class=\"dataframe\">\n",
       "  <thead>\n",
       "    <tr style=\"text-align: right;\">\n",
       "      <th></th>\n",
       "      <th>user_id</th>\n",
       "      <th>average_order_value</th>\n",
       "    </tr>\n",
       "  </thead>\n",
       "  <tbody>\n",
       "    <tr>\n",
       "      <th>0</th>\n",
       "      <td>USER_00019</td>\n",
       "      <td>2709.490000</td>\n",
       "    </tr>\n",
       "    <tr>\n",
       "      <th>1</th>\n",
       "      <td>USER_00028</td>\n",
       "      <td>3833.450000</td>\n",
       "    </tr>\n",
       "    <tr>\n",
       "      <th>2</th>\n",
       "      <td>USER_00032</td>\n",
       "      <td>4653.055000</td>\n",
       "    </tr>\n",
       "    <tr>\n",
       "      <th>3</th>\n",
       "      <td>USER_00051</td>\n",
       "      <td>5034.336667</td>\n",
       "    </tr>\n",
       "    <tr>\n",
       "      <th>4</th>\n",
       "      <td>USER_00061</td>\n",
       "      <td>4336.585000</td>\n",
       "    </tr>\n",
       "    <tr>\n",
       "      <th>...</th>\n",
       "      <td>...</td>\n",
       "      <td>...</td>\n",
       "    </tr>\n",
       "    <tr>\n",
       "      <th>898</th>\n",
       "      <td>USER_09951</td>\n",
       "      <td>5188.115000</td>\n",
       "    </tr>\n",
       "    <tr>\n",
       "      <th>899</th>\n",
       "      <td>USER_09963</td>\n",
       "      <td>2969.550000</td>\n",
       "    </tr>\n",
       "    <tr>\n",
       "      <th>900</th>\n",
       "      <td>USER_09964</td>\n",
       "      <td>4839.505000</td>\n",
       "    </tr>\n",
       "    <tr>\n",
       "      <th>901</th>\n",
       "      <td>USER_09968</td>\n",
       "      <td>7862.965000</td>\n",
       "    </tr>\n",
       "    <tr>\n",
       "      <th>902</th>\n",
       "      <td>USER_09990</td>\n",
       "      <td>6444.270000</td>\n",
       "    </tr>\n",
       "  </tbody>\n",
       "</table>\n",
       "<p>903 rows × 2 columns</p>\n",
       "</div>"
      ],
      "text/plain": [
       "        user_id  average_order_value\n",
       "0    USER_00019          2709.490000\n",
       "1    USER_00028          3833.450000\n",
       "2    USER_00032          4653.055000\n",
       "3    USER_00051          5034.336667\n",
       "4    USER_00061          4336.585000\n",
       "..          ...                  ...\n",
       "898  USER_09951          5188.115000\n",
       "899  USER_09963          2969.550000\n",
       "900  USER_09964          4839.505000\n",
       "901  USER_09968          7862.965000\n",
       "902  USER_09990          6444.270000\n",
       "\n",
       "[903 rows x 2 columns]"
      ]
     },
     "execution_count": 201,
     "metadata": {},
     "output_type": "execute_result"
    }
   ],
   "source": [
    "average_order_value_of_repeated_users = repeat_user_data.groupby('user_id')['product_amount'].mean().reset_index(name='average_order_value')\n",
    "average_order_value_of_repeated_users"
   ]
  },
  {
   "cell_type": "markdown",
   "id": "71408783",
   "metadata": {},
   "source": [
    "Repeat customers are high in rural areas compared to urban areas, play with number of target_min_repetition rate to understand more about each frequency"
   ]
  },
  {
   "cell_type": "code",
   "execution_count": null,
   "id": "e981b641",
   "metadata": {
    "vscode": {
     "languageId": "ruby"
    }
   },
   "outputs": [],
   "source": [
    "unsuccessful_transactions_of_repeat_users.groupby('payment_method')['transaction_status'].value_counts().unstack().fillna(0)"
   ]
  },
  {
   "cell_type": "markdown",
   "id": "f7c14af6",
   "metadata": {},
   "source": [
    "# Understanding onetime user behaviour"
   ]
  },
  {
   "cell_type": "code",
   "execution_count": 74,
   "id": "c7135013",
   "metadata": {},
   "outputs": [],
   "source": [
    "single_transaction_users = user_frequency[user_frequency['transaction_count'] == 1][\"user_id\"].values"
   ]
  },
  {
   "cell_type": "code",
   "execution_count": 75,
   "id": "e765a491",
   "metadata": {},
   "outputs": [],
   "source": [
    "single_user_data = df[df['user_id'].isin(single_transaction_users)]"
   ]
  },
  {
   "cell_type": "code",
   "execution_count": 76,
   "id": "87be3bc5",
   "metadata": {},
   "outputs": [
    {
     "data": {
      "text/plain": [
       "<Axes: xlabel='count', ylabel='location'>"
      ]
     },
     "execution_count": 76,
     "metadata": {},
     "output_type": "execute_result"
    },
    {
     "data": {
      "image/png": "[encoded data removed]",
      "text/plain": [
       "<Figure size 640x480 with 1 Axes>"
      ]
     },
     "metadata": {},
     "output_type": "display_data"
    }
   ],
   "source": [
    "sns.countplot(y=\"location\", data=single_user_data, order=single_user_data['location'].value_counts().index)  # Single transaction users by location"
   ]
  },
  {
   "cell_type": "code",
   "execution_count": 150,
   "id": "bc1cdd83",
   "metadata": {},
   "outputs": [
    {
     "data": {
      "text/html": [
       "<div>\n",
       "<style scoped>\n",
       "    .dataframe tbody tr th:only-of-type {\n",
       "        vertical-align: middle;\n",
       "    }\n",
       "\n",
       "    .dataframe tbody tr th {\n",
       "        vertical-align: top;\n",
       "    }\n",
       "\n",
       "    .dataframe thead th {\n",
       "        text-align: right;\n",
       "    }\n",
       "</style>\n",
       "<table border=\"1\" class=\"dataframe\">\n",
       "  <thead>\n",
       "    <tr style=\"text-align: right;\">\n",
       "      <th></th>\n",
       "      <th>payment_method</th>\n",
       "      <th>payment_count</th>\n",
       "    </tr>\n",
       "  </thead>\n",
       "  <tbody>\n",
       "    <tr>\n",
       "      <th>2</th>\n",
       "      <td>Debit Card</td>\n",
       "      <td>641</td>\n",
       "    </tr>\n",
       "    <tr>\n",
       "      <th>0</th>\n",
       "      <td>Bank Transfer</td>\n",
       "      <td>618</td>\n",
       "    </tr>\n",
       "    <tr>\n",
       "      <th>1</th>\n",
       "      <td>Credit Card</td>\n",
       "      <td>608</td>\n",
       "    </tr>\n",
       "    <tr>\n",
       "      <th>3</th>\n",
       "      <td>UPI</td>\n",
       "      <td>608</td>\n",
       "    </tr>\n",
       "    <tr>\n",
       "      <th>4</th>\n",
       "      <td>Wallet Balance</td>\n",
       "      <td>554</td>\n",
       "    </tr>\n",
       "  </tbody>\n",
       "</table>\n",
       "</div>"
      ],
      "text/plain": [
       "   payment_method  payment_count\n",
       "2      Debit Card            641\n",
       "0   Bank Transfer            618\n",
       "1     Credit Card            608\n",
       "3             UPI            608\n",
       "4  Wallet Balance            554"
      ]
     },
     "execution_count": 150,
     "metadata": {},
     "output_type": "execute_result"
    }
   ],
   "source": [
    "single_user_data.groupby('payment_method')['user_id'].nunique().reset_index(name='payment_count').sort_values(by='payment_count', ascending=False)"
   ]
  },
  {
   "cell_type": "code",
   "execution_count": 203,
   "id": "78090e54",
   "metadata": {},
   "outputs": [
    {
     "data": {
      "text/html": [
       "<div>\n",
       "<style scoped>\n",
       "    .dataframe tbody tr th:only-of-type {\n",
       "        vertical-align: middle;\n",
       "    }\n",
       "\n",
       "    .dataframe tbody tr th {\n",
       "        vertical-align: top;\n",
       "    }\n",
       "\n",
       "    .dataframe thead th {\n",
       "        text-align: right;\n",
       "    }\n",
       "</style>\n",
       "<table border=\"1\" class=\"dataframe\">\n",
       "  <thead>\n",
       "    <tr style=\"text-align: right;\">\n",
       "      <th></th>\n",
       "      <th>idx</th>\n",
       "      <th>transaction_id</th>\n",
       "      <th>user_id</th>\n",
       "      <th>transaction_date</th>\n",
       "      <th>product_category</th>\n",
       "      <th>product_name</th>\n",
       "      <th>merchant_name</th>\n",
       "      <th>product_amount</th>\n",
       "      <th>transaction_fee</th>\n",
       "      <th>cashback</th>\n",
       "      <th>loyalty_points</th>\n",
       "      <th>payment_method</th>\n",
       "      <th>transaction_status</th>\n",
       "      <th>merchant_id</th>\n",
       "      <th>device_type</th>\n",
       "      <th>location</th>\n",
       "    </tr>\n",
       "  </thead>\n",
       "  <tbody>\n",
       "    <tr>\n",
       "      <th>82</th>\n",
       "      <td>83</td>\n",
       "      <td>e204f872-24c1-4cd3-a98e-313027c7dd03</td>\n",
       "      <td>USER_05459</td>\n",
       "      <td>2023-08-23 20:10:00</td>\n",
       "      <td>Loan Repayment</td>\n",
       "      <td>Home Loan EMI</td>\n",
       "      <td>SBI</td>\n",
       "      <td>4527.36</td>\n",
       "      <td>44.44</td>\n",
       "      <td>43.92</td>\n",
       "      <td>771</td>\n",
       "      <td>Debit Card</td>\n",
       "      <td>Failed</td>\n",
       "      <td>MERCH_0086</td>\n",
       "      <td>Android</td>\n",
       "      <td>Urban</td>\n",
       "    </tr>\n",
       "    <tr>\n",
       "      <th>113</th>\n",
       "      <td>114</td>\n",
       "      <td>0417b394-5ecb-4b8f-b47d-4a5083857e09</td>\n",
       "      <td>USER_09924</td>\n",
       "      <td>2023-08-26 02:13:00</td>\n",
       "      <td>Grocery Shopping</td>\n",
       "      <td>Basmati Rice</td>\n",
       "      <td>Grofers</td>\n",
       "      <td>1142.21</td>\n",
       "      <td>35.62</td>\n",
       "      <td>42.15</td>\n",
       "      <td>124</td>\n",
       "      <td>Wallet Balance</td>\n",
       "      <td>Failed</td>\n",
       "      <td>MERCH_0943</td>\n",
       "      <td>Android</td>\n",
       "      <td>Urban</td>\n",
       "    </tr>\n",
       "    <tr>\n",
       "      <th>147</th>\n",
       "      <td>148</td>\n",
       "      <td>e99bf8ee-33fc-4a26-9337-2fb212e2bbec</td>\n",
       "      <td>USER_01234</td>\n",
       "      <td>2023-08-29 20:22:00</td>\n",
       "      <td>Streaming Service</td>\n",
       "      <td>Premium Plan</td>\n",
       "      <td>Netflix</td>\n",
       "      <td>5324.86</td>\n",
       "      <td>44.27</td>\n",
       "      <td>50.04</td>\n",
       "      <td>525</td>\n",
       "      <td>UPI</td>\n",
       "      <td>Failed</td>\n",
       "      <td>MERCH_0118</td>\n",
       "      <td>Android</td>\n",
       "      <td>Rural</td>\n",
       "    </tr>\n",
       "  </tbody>\n",
       "</table>\n",
       "</div>"
      ],
      "text/plain": [
       "     idx                        transaction_id     user_id  \\\n",
       "82    83  e204f872-24c1-4cd3-a98e-313027c7dd03  USER_05459   \n",
       "113  114  0417b394-5ecb-4b8f-b47d-4a5083857e09  USER_09924   \n",
       "147  148  e99bf8ee-33fc-4a26-9337-2fb212e2bbec  USER_01234   \n",
       "\n",
       "       transaction_date   product_category   product_name merchant_name  \\\n",
       "82  2023-08-23 20:10:00     Loan Repayment  Home Loan EMI           SBI   \n",
       "113 2023-08-26 02:13:00   Grocery Shopping   Basmati Rice       Grofers   \n",
       "147 2023-08-29 20:22:00  Streaming Service   Premium Plan       Netflix   \n",
       "\n",
       "     product_amount  transaction_fee  cashback  loyalty_points  \\\n",
       "82          4527.36            44.44     43.92             771   \n",
       "113         1142.21            35.62     42.15             124   \n",
       "147         5324.86            44.27     50.04             525   \n",
       "\n",
       "     payment_method transaction_status merchant_id device_type location  \n",
       "82       Debit Card             Failed  MERCH_0086     Android    Urban  \n",
       "113  Wallet Balance             Failed  MERCH_0943     Android    Urban  \n",
       "147             UPI             Failed  MERCH_0118     Android    Rural  "
      ]
     },
     "execution_count": 203,
     "metadata": {},
     "output_type": "execute_result"
    }
   ],
   "source": [
    "unsuccessful_transactions_of_single_users = single_user_data[single_user_data['transaction_status'] != \"Successful\"]\n",
    "unsuccessful_transactions_of_single_users.head(3)"
   ]
  },
  {
   "cell_type": "code",
   "execution_count": 148,
   "id": "5287ccbd",
   "metadata": {},
   "outputs": [
    {
     "data": {
      "text/html": [
       "<div>\n",
       "<style scoped>\n",
       "    .dataframe tbody tr th:only-of-type {\n",
       "        vertical-align: middle;\n",
       "    }\n",
       "\n",
       "    .dataframe tbody tr th {\n",
       "        vertical-align: top;\n",
       "    }\n",
       "\n",
       "    .dataframe thead th {\n",
       "        text-align: right;\n",
       "    }\n",
       "</style>\n",
       "<table border=\"1\" class=\"dataframe\">\n",
       "  <thead>\n",
       "    <tr style=\"text-align: right;\">\n",
       "      <th>transaction_status</th>\n",
       "      <th>Failed</th>\n",
       "      <th>Pending</th>\n",
       "    </tr>\n",
       "    <tr>\n",
       "      <th>payment_method</th>\n",
       "      <th></th>\n",
       "      <th></th>\n",
       "    </tr>\n",
       "  </thead>\n",
       "  <tbody>\n",
       "    <tr>\n",
       "      <th>Credit Card</th>\n",
       "      <td>20</td>\n",
       "      <td>17</td>\n",
       "    </tr>\n",
       "    <tr>\n",
       "      <th>Wallet Balance</th>\n",
       "      <td>15</td>\n",
       "      <td>13</td>\n",
       "    </tr>\n",
       "    <tr>\n",
       "      <th>UPI</th>\n",
       "      <td>17</td>\n",
       "      <td>13</td>\n",
       "    </tr>\n",
       "    <tr>\n",
       "      <th>Bank Transfer</th>\n",
       "      <td>17</td>\n",
       "      <td>10</td>\n",
       "    </tr>\n",
       "    <tr>\n",
       "      <th>Debit Card</th>\n",
       "      <td>20</td>\n",
       "      <td>4</td>\n",
       "    </tr>\n",
       "  </tbody>\n",
       "</table>\n",
       "</div>"
      ],
      "text/plain": [
       "transaction_status  Failed  Pending\n",
       "payment_method                     \n",
       "Credit Card             20       17\n",
       "Wallet Balance          15       13\n",
       "UPI                     17       13\n",
       "Bank Transfer           17       10\n",
       "Debit Card              20        4"
      ]
     },
     "execution_count": 148,
     "metadata": {},
     "output_type": "execute_result"
    }
   ],
   "source": [
    "unsuccessful_transactions_of_single_users.groupby('payment_method')['transaction_status'].value_counts().unstack().sort_values(by='Pending', ascending=False)"
   ]
  },
  {
   "cell_type": "markdown",
   "id": "d822d88f",
   "metadata": {},
   "source": [
    "### Most of the unsuccessful transactions for single users are coming from credit card(More in case of pending)"
   ]
  },
  {
   "cell_type": "code",
   "execution_count": 124,
   "id": "c2744c6e",
   "metadata": {},
   "outputs": [],
   "source": [
    "device_data_of_unsuccessful_transactions = unsuccessful_transactions_of_single_users.groupby('device_type')['transaction_status'].value_counts().unstack().fillna(0)\n"
   ]
  },
  {
   "cell_type": "code",
   "execution_count": 138,
   "id": "94ad2c96",
   "metadata": {},
   "outputs": [],
   "source": [
    "device_data_of_unsuccessful_transactions[\"Overall\"] = device_data_of_unsuccessful_transactions[\"Failed\"]+ device_data_of_unsuccessful_transactions[\"Pending\"]\n",
    "total_transactions = df.groupby('device_type').size().reset_index(name='total_count')\n",
    "device_data_of_unsuccessful_transactions = device_data_of_unsuccessful_transactions.merge(total_transactions, on='device_type', how='left')\n",
    "#device_data_of_unsuccessful_transactions[\"percentage\"] = (device_data_of_unsuccessful_transactions[\"Overall\"] / df.groupby(\"device_type\")['transaction_status'].) * 100"
   ]
  },
  {
   "cell_type": "code",
   "execution_count": null,
   "id": "f291a9af",
   "metadata": {},
   "outputs": [
    {
     "data": {
      "text/html": [
       "<div>\n",
       "<style scoped>\n",
       "    .dataframe tbody tr th:only-of-type {\n",
       "        vertical-align: middle;\n",
       "    }\n",
       "\n",
       "    .dataframe tbody tr th {\n",
       "        vertical-align: top;\n",
       "    }\n",
       "\n",
       "    .dataframe thead th {\n",
       "        text-align: right;\n",
       "    }\n",
       "</style>\n",
       "<table border=\"1\" class=\"dataframe\">\n",
       "  <thead>\n",
       "    <tr style=\"text-align: right;\">\n",
       "      <th></th>\n",
       "      <th>device_type</th>\n",
       "      <th>Failed</th>\n",
       "      <th>Pending</th>\n",
       "      <th>Overall</th>\n",
       "      <th>total_count_x</th>\n",
       "      <th>total_count_y</th>\n",
       "    </tr>\n",
       "  </thead>\n",
       "  <tbody>\n",
       "    <tr>\n",
       "      <th>0</th>\n",
       "      <td>Android</td>\n",
       "      <td>46</td>\n",
       "      <td>33</td>\n",
       "      <td>79</td>\n",
       "      <td>3</td>\n",
       "      <td>2995</td>\n",
       "    </tr>\n",
       "    <tr>\n",
       "      <th>1</th>\n",
       "      <td>Web</td>\n",
       "      <td>12</td>\n",
       "      <td>6</td>\n",
       "      <td>18</td>\n",
       "      <td>3</td>\n",
       "      <td>479</td>\n",
       "    </tr>\n",
       "    <tr>\n",
       "      <th>2</th>\n",
       "      <td>iOS</td>\n",
       "      <td>31</td>\n",
       "      <td>18</td>\n",
       "      <td>49</td>\n",
       "      <td>3</td>\n",
       "      <td>1526</td>\n",
       "    </tr>\n",
       "  </tbody>\n",
       "</table>\n",
       "</div>"
      ],
      "text/plain": [
       "  device_type  Failed  Pending  Overall  total_count_x  total_count_y\n",
       "0     Android      46       33       79              3           2995\n",
       "1         Web      12        6       18              3            479\n",
       "2         iOS      31       18       49              3           1526"
      ]
     },
     "execution_count": 135,
     "metadata": {},
     "output_type": "execute_result"
    }
   ],
   "source": [
    "device_data_of_unsuccessful_transactions.drop(columns=['Failed', 'Pending'], inplace=True)"
   ]
  },
  {
   "cell_type": "code",
   "execution_count": null,
   "id": "a96d3b76",
   "metadata": {},
   "outputs": [],
   "source": []
  },
  {
   "cell_type": "code",
   "execution_count": null,
   "id": "180df519",
   "metadata": {},
   "outputs": [],
   "source": []
  },
  {
   "cell_type": "markdown",
   "id": "8323080d",
   "metadata": {},
   "source": [
    "# Understanding Product Metrics"
   ]
  },
  {
   "cell_type": "code",
   "execution_count": 155,
   "id": "4991ff2e",
   "metadata": {},
   "outputs": [],
   "source": [
    "total_productwise_cost = df.groupby('product_category')['product_amount'].sum().reset_index(name='total_cost')"
   ]
  },
  {
   "cell_type": "code",
   "execution_count": 157,
   "id": "904153cb",
   "metadata": {},
   "outputs": [],
   "source": [
    "total_productwise_cost.sort_values(by='total_cost', ascending=False, inplace=True)"
   ]
  },
  {
   "cell_type": "code",
   "execution_count": 161,
   "id": "629637ba",
   "metadata": {},
   "outputs": [],
   "source": [
    "average_order_value_productwise = df.groupby('product_category')['product_amount'].mean().reset_index(name='average_order_value')"
   ]
  },
  {
   "cell_type": "code",
   "execution_count": 171,
   "id": "7ad2bad7",
   "metadata": {},
   "outputs": [],
   "source": [
    "order_count_productwise = df.groupby('product_category')['user_id'].nunique().reset_index(name='order_count')"
   ]
  },
  {
   "cell_type": "code",
   "execution_count": 176,
   "id": "63d9dc34",
   "metadata": {},
   "outputs": [],
   "source": [
    "order_count_productwise.sort_values(ascending=False,by = \"order_count\", inplace=True)"
   ]
  },
  {
   "cell_type": "code",
   "execution_count": 177,
   "id": "4d196633",
   "metadata": {},
   "outputs": [],
   "source": [
    "product_category_metrics  = pd.merge(average_order_value_productwise,order_count_productwise,on = 'product_category',how='left')"
   ]
  },
  {
   "cell_type": "code",
   "execution_count": 179,
   "id": "f3198cb9",
   "metadata": {},
   "outputs": [],
   "source": [
    "product_category_metrics = pd.merge(product_category_metrics, total_productwise_cost, on='product_category', how='left')"
   ]
  },
  {
   "cell_type": "code",
   "execution_count": 191,
   "id": "164a78af",
   "metadata": {},
   "outputs": [
    {
     "data": {
      "text/html": [
       "<div>\n",
       "<style scoped>\n",
       "    .dataframe tbody tr th:only-of-type {\n",
       "        vertical-align: middle;\n",
       "    }\n",
       "\n",
       "    .dataframe tbody tr th {\n",
       "        vertical-align: top;\n",
       "    }\n",
       "\n",
       "    .dataframe thead th {\n",
       "        text-align: right;\n",
       "    }\n",
       "</style>\n",
       "<table border=\"1\" class=\"dataframe\">\n",
       "  <thead>\n",
       "    <tr style=\"text-align: right;\">\n",
       "      <th></th>\n",
       "      <th>product_category</th>\n",
       "      <th>average_order_value</th>\n",
       "      <th>order_count</th>\n",
       "      <th>total_cost</th>\n",
       "    </tr>\n",
       "  </thead>\n",
       "  <tbody>\n",
       "    <tr>\n",
       "      <th>0</th>\n",
       "      <td>Streaming Service</td>\n",
       "      <td>4891.176120</td>\n",
       "      <td>295</td>\n",
       "      <td>1462461.66</td>\n",
       "    </tr>\n",
       "    <tr>\n",
       "      <th>1</th>\n",
       "      <td>Water Bill</td>\n",
       "      <td>5130.655128</td>\n",
       "      <td>271</td>\n",
       "      <td>1400668.85</td>\n",
       "    </tr>\n",
       "    <tr>\n",
       "      <th>2</th>\n",
       "      <td>Gas Bill</td>\n",
       "      <td>5446.079200</td>\n",
       "      <td>247</td>\n",
       "      <td>1361519.80</td>\n",
       "    </tr>\n",
       "    <tr>\n",
       "      <th>3</th>\n",
       "      <td>Education Fee</td>\n",
       "      <td>4717.908287</td>\n",
       "      <td>283</td>\n",
       "      <td>1349321.77</td>\n",
       "    </tr>\n",
       "    <tr>\n",
       "      <th>4</th>\n",
       "      <td>Movie Ticket</td>\n",
       "      <td>4916.911360</td>\n",
       "      <td>270</td>\n",
       "      <td>1337399.89</td>\n",
       "    </tr>\n",
       "    <tr>\n",
       "      <th>5</th>\n",
       "      <td>Hotel Booking</td>\n",
       "      <td>4816.072628</td>\n",
       "      <td>268</td>\n",
       "      <td>1319603.90</td>\n",
       "    </tr>\n",
       "    <tr>\n",
       "      <th>6</th>\n",
       "      <td>Food Delivery</td>\n",
       "      <td>5085.352162</td>\n",
       "      <td>259</td>\n",
       "      <td>1317106.21</td>\n",
       "    </tr>\n",
       "    <tr>\n",
       "      <th>7</th>\n",
       "      <td>Taxi Fare</td>\n",
       "      <td>5103.774375</td>\n",
       "      <td>253</td>\n",
       "      <td>1306566.24</td>\n",
       "    </tr>\n",
       "    <tr>\n",
       "      <th>8</th>\n",
       "      <td>Rent Payment</td>\n",
       "      <td>5013.002749</td>\n",
       "      <td>247</td>\n",
       "      <td>1258263.69</td>\n",
       "    </tr>\n",
       "    <tr>\n",
       "      <th>9</th>\n",
       "      <td>Internet Bill</td>\n",
       "      <td>5352.695579</td>\n",
       "      <td>228</td>\n",
       "      <td>1247178.07</td>\n",
       "    </tr>\n",
       "  </tbody>\n",
       "</table>\n",
       "</div>"
      ],
      "text/plain": [
       "    product_category  average_order_value  order_count  total_cost\n",
       "0  Streaming Service          4891.176120          295  1462461.66\n",
       "1         Water Bill          5130.655128          271  1400668.85\n",
       "2           Gas Bill          5446.079200          247  1361519.80\n",
       "3      Education Fee          4717.908287          283  1349321.77\n",
       "4       Movie Ticket          4916.911360          270  1337399.89\n",
       "5      Hotel Booking          4816.072628          268  1319603.90\n",
       "6      Food Delivery          5085.352162          259  1317106.21\n",
       "7          Taxi Fare          5103.774375          253  1306566.24\n",
       "8       Rent Payment          5013.002749          247  1258263.69\n",
       "9      Internet Bill          5352.695579          228  1247178.07"
      ]
     },
     "execution_count": 191,
     "metadata": {},
     "output_type": "execute_result"
    }
   ],
   "source": [
    "product_category_metrics.sort_values(by='total_cost', ascending=False, inplace=True)\n",
    "product_category_metrics.reset_index(drop=True, inplace=True)\n",
    "product_category_metrics.head(10)"
   ]
  },
  {
   "cell_type": "markdown",
   "id": "437de5a7",
   "metadata": {},
   "source": []
  }
 ],
 "metadata": {
  "kernelspec": {
   "display_name": "Python 3 (ipykernel)",
   "language": "python",
   "name": "python3"
  },
  "language_info": {
   "codemirror_mode": {
    "name": "ipython",
    "version": 3
   },
   "file_extension": ".py",
   "mimetype": "text/x-python",
   "name": "python",
   "nbconvert_exporter": "python",
   "pygments_lexer": "ipython3",
   "version": "3.11.13"
  }
 },
 "nbformat": 4,
 "nbformat_minor": 5
}
