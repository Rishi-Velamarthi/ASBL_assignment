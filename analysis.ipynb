{
 "cells": [
  {
   "cell_type": "code",
   "execution_count": 2,
   "id": "91f01b11",
   "metadata": {},
   "outputs": [],
   "source": [
    "import pandas as pd\n",
    "import seaborn as sns\n",
    "import matplotlib.pyplot as plt\n",
    "import numpy as np"
   ]
  },
  {
   "cell_type": "code",
   "execution_count": 3,
   "id": "01f57876",
   "metadata": {},
   "outputs": [],
   "source": [
    "data_dir = \"digital_wallet_transactions.csv\""
   ]
  },
  {
   "cell_type": "code",
   "execution_count": 190,
   "id": "4744b8b1",
   "metadata": {
    "scrolled": true
   },
   "outputs": [
    {
     "data": {
      "text/html": [
       "<div>\n",
       "<style scoped>\n",
       "    .dataframe tbody tr th:only-of-type {\n",
       "        vertical-align: middle;\n",
       "    }\n",
       "\n",
       "    .dataframe tbody tr th {\n",
       "        vertical-align: top;\n",
       "    }\n",
       "\n",
       "    .dataframe thead th {\n",
       "        text-align: right;\n",
       "    }\n",
       "</style>\n",
       "<table border=\"1\" class=\"dataframe\">\n",
       "  <thead>\n",
       "    <tr style=\"text-align: right;\">\n",
       "      <th></th>\n",
       "      <th>idx</th>\n",
       "      <th>transaction_id</th>\n",
       "      <th>user_id</th>\n",
       "      <th>transaction_date</th>\n",
       "      <th>product_category</th>\n",
       "      <th>product_name</th>\n",
       "      <th>merchant_name</th>\n",
       "      <th>product_amount</th>\n",
       "      <th>transaction_fee</th>\n",
       "      <th>cashback</th>\n",
       "      <th>loyalty_points</th>\n",
       "      <th>payment_method</th>\n",
       "      <th>transaction_status</th>\n",
       "      <th>merchant_id</th>\n",
       "      <th>device_type</th>\n",
       "      <th>location</th>\n",
       "    </tr>\n",
       "  </thead>\n",
       "  <tbody>\n",
       "    <tr>\n",
       "      <th>0</th>\n",
       "      <td>1</td>\n",
       "      <td>4dac3ea3-6492-46ec-80b8-dc45c3ad0b14</td>\n",
       "      <td>USER_05159</td>\n",
       "      <td>2023-08-19 03:32:00</td>\n",
       "      <td>Rent Payment</td>\n",
       "      <td>2BHK Flat Deposit</td>\n",
       "      <td>Airbnb</td>\n",
       "      <td>1525.39</td>\n",
       "      <td>36.69</td>\n",
       "      <td>19.19</td>\n",
       "      <td>186</td>\n",
       "      <td>Debit Card</td>\n",
       "      <td>Successful</td>\n",
       "      <td>MERCH_0083</td>\n",
       "      <td>iOS</td>\n",
       "      <td>Urban</td>\n",
       "    </tr>\n",
       "    <tr>\n",
       "      <th>1</th>\n",
       "      <td>2</td>\n",
       "      <td>a903ed9f-eb84-47e7-b8aa-fd1786c919cf</td>\n",
       "      <td>USER_07204</td>\n",
       "      <td>2023-08-19 04:37:00</td>\n",
       "      <td>Gas Bill</td>\n",
       "      <td>Commercial Gas Connection</td>\n",
       "      <td>Adani Gas</td>\n",
       "      <td>1495.40</td>\n",
       "      <td>28.19</td>\n",
       "      <td>89.99</td>\n",
       "      <td>182</td>\n",
       "      <td>UPI</td>\n",
       "      <td>Successful</td>\n",
       "      <td>MERCH_0163</td>\n",
       "      <td>iOS</td>\n",
       "      <td>Urban</td>\n",
       "    </tr>\n",
       "    <tr>\n",
       "      <th>2</th>\n",
       "      <td>3</td>\n",
       "      <td>2a393013-733c-4add-9f09-bed1eeb33676</td>\n",
       "      <td>USER_00903</td>\n",
       "      <td>2023-08-19 05:52:00</td>\n",
       "      <td>Bus Ticket</td>\n",
       "      <td>Semi-Sleeper</td>\n",
       "      <td>MakeMyTrip Bus</td>\n",
       "      <td>1267.71</td>\n",
       "      <td>11.36</td>\n",
       "      <td>95.70</td>\n",
       "      <td>994</td>\n",
       "      <td>UPI</td>\n",
       "      <td>Successful</td>\n",
       "      <td>MERCH_0320</td>\n",
       "      <td>iOS</td>\n",
       "      <td>Urban</td>\n",
       "    </tr>\n",
       "  </tbody>\n",
       "</table>\n",
       "</div>"
      ],
      "text/plain": [
       "   idx                        transaction_id     user_id    transaction_date  \\\n",
       "0    1  4dac3ea3-6492-46ec-80b8-dc45c3ad0b14  USER_05159 2023-08-19 03:32:00   \n",
       "1    2  a903ed9f-eb84-47e7-b8aa-fd1786c919cf  USER_07204 2023-08-19 04:37:00   \n",
       "2    3  2a393013-733c-4add-9f09-bed1eeb33676  USER_00903 2023-08-19 05:52:00   \n",
       "\n",
       "  product_category               product_name   merchant_name  product_amount  \\\n",
       "0     Rent Payment          2BHK Flat Deposit          Airbnb         1525.39   \n",
       "1         Gas Bill  Commercial Gas Connection       Adani Gas         1495.40   \n",
       "2       Bus Ticket               Semi-Sleeper  MakeMyTrip Bus         1267.71   \n",
       "\n",
       "   transaction_fee  cashback  loyalty_points payment_method  \\\n",
       "0            36.69     19.19             186     Debit Card   \n",
       "1            28.19     89.99             182            UPI   \n",
       "2            11.36     95.70             994            UPI   \n",
       "\n",
       "  transaction_status merchant_id device_type location  \n",
       "0         Successful  MERCH_0083         iOS    Urban  \n",
       "1         Successful  MERCH_0163         iOS    Urban  \n",
       "2         Successful  MERCH_0320         iOS    Urban  "
      ]
     },
     "execution_count": 190,
     "metadata": {},
     "output_type": "execute_result"
    }
   ],
   "source": [
    "df = pd.read_csv(data_dir, parse_dates=['transaction_date'])\n",
    "df.head(3)"
   ]
  },
  {
   "cell_type": "code",
   "execution_count": 204,
   "id": "f87b6857",
   "metadata": {},
   "outputs": [],
   "source": [
    "weekly_transactions = df.groupby(df['transaction_date'].dt.to_period('W')).size().reset_index(name='transaction_count')\n",
    "monthly_transactions = df.groupby(df['transaction_date'].dt.to_period('M')).size().reset_index(name='transaction_count')"
   ]
  },
  {
   "cell_type": "markdown",
   "id": "225cbfc3",
   "metadata": {},
   "source": [
    "##  Understanding User Metrics and Behaviour"
   ]
  },
  {
   "cell_type": "code",
   "execution_count": 220,
   "id": "952cc154",
   "metadata": {},
   "outputs": [
    {
     "data": {
      "text/plain": [
       "Text(0.5, 1.0, 'Weekly Transactions Activity')"
      ]
     },
     "execution_count": 220,
     "metadata": {},
     "output_type": "execute_result"
    },
    {
     "data": {
      "image/png": "[encoded data removed]",
      "text/plain": [
       "<Figure size 640x480 with 1 Axes>"
      ]
     },
     "metadata": {},
     "output_type": "display_data"
    }
   ],
   "source": [
    "sns.lineplot( data=weekly_transactions)  # weekly transactions activity over time\n",
    "plt.title('Weekly Transactions Activity')"
   ]
  },
  {
   "cell_type": "code",
   "execution_count": 222,
   "id": "4043f5e0",
   "metadata": {},
   "outputs": [
    {
     "data": {
      "text/plain": [
       "Text(0.5, 1.0, 'Monthly Active Users Transactions')"
      ]
     },
     "execution_count": 222,
     "metadata": {},
     "output_type": "execute_result"
    },
    {
     "data": {
      "image/png": "[encoded data removed]",
      "text/plain": [
       "<Figure size 640x480 with 1 Axes>"
      ]
     },
     "metadata": {},
     "output_type": "display_data"
    }
   ],
   "source": [
    "sns.lineplot( data=monthly_transactions)  # weekly transactions activity over time\n",
    "plt.title('Monthly Active Users Transactions')"
   ]
  },
  {
   "cell_type": "markdown",
   "id": "200f4010",
   "metadata": {},
   "source": [
    "#### Observations : Weekly Active users are varying between 80-110 but no exponential improvement overtime. Reduction of Monthly active users from 11-12 month."
   ]
  },
  {
   "cell_type": "code",
   "execution_count": null,
   "id": "cf7e9fcf",
   "metadata": {},
   "outputs": [],
   "source": []
  },
  {
   "cell_type": "markdown",
   "id": "8d527f46",
   "metadata": {},
   "source": [
    "### Identifying Merchant influence on unsuccessful transactions"
   ]
  },
  {
   "cell_type": "code",
   "execution_count": 537,
   "id": "1739fe8e",
   "metadata": {},
   "outputs": [
    {
     "data": {
      "text/html": [
       "<div>\n",
       "<style scoped>\n",
       "    .dataframe tbody tr th:only-of-type {\n",
       "        vertical-align: middle;\n",
       "    }\n",
       "\n",
       "    .dataframe tbody tr th {\n",
       "        vertical-align: top;\n",
       "    }\n",
       "\n",
       "    .dataframe thead th {\n",
       "        text-align: right;\n",
       "    }\n",
       "</style>\n",
       "<table border=\"1\" class=\"dataframe\">\n",
       "  <thead>\n",
       "    <tr style=\"text-align: right;\">\n",
       "      <th></th>\n",
       "      <th>idx</th>\n",
       "      <th>transaction_id</th>\n",
       "      <th>user_id</th>\n",
       "      <th>transaction_date</th>\n",
       "      <th>product_category</th>\n",
       "      <th>product_name</th>\n",
       "      <th>merchant_name</th>\n",
       "      <th>product_amount</th>\n",
       "      <th>transaction_fee</th>\n",
       "      <th>cashback</th>\n",
       "      <th>loyalty_points</th>\n",
       "      <th>payment_method</th>\n",
       "      <th>transaction_status</th>\n",
       "      <th>merchant_id</th>\n",
       "      <th>device_type</th>\n",
       "      <th>location</th>\n",
       "    </tr>\n",
       "  </thead>\n",
       "  <tbody>\n",
       "    <tr>\n",
       "      <th>82</th>\n",
       "      <td>83</td>\n",
       "      <td>e204f872-24c1-4cd3-a98e-313027c7dd03</td>\n",
       "      <td>USER_05459</td>\n",
       "      <td>2023-08-23 20:10:00</td>\n",
       "      <td>Loan Repayment</td>\n",
       "      <td>Home Loan EMI</td>\n",
       "      <td>SBI</td>\n",
       "      <td>4527.36</td>\n",
       "      <td>44.44</td>\n",
       "      <td>43.92</td>\n",
       "      <td>771</td>\n",
       "      <td>Debit Card</td>\n",
       "      <td>Failed</td>\n",
       "      <td>MERCH_0086</td>\n",
       "      <td>Android</td>\n",
       "      <td>Urban</td>\n",
       "    </tr>\n",
       "    <tr>\n",
       "      <th>113</th>\n",
       "      <td>114</td>\n",
       "      <td>0417b394-5ecb-4b8f-b47d-4a5083857e09</td>\n",
       "      <td>USER_09924</td>\n",
       "      <td>2023-08-26 02:13:00</td>\n",
       "      <td>Grocery Shopping</td>\n",
       "      <td>Basmati Rice</td>\n",
       "      <td>Grofers</td>\n",
       "      <td>1142.21</td>\n",
       "      <td>35.62</td>\n",
       "      <td>42.15</td>\n",
       "      <td>124</td>\n",
       "      <td>Wallet Balance</td>\n",
       "      <td>Failed</td>\n",
       "      <td>MERCH_0943</td>\n",
       "      <td>Android</td>\n",
       "      <td>Urban</td>\n",
       "    </tr>\n",
       "    <tr>\n",
       "      <th>143</th>\n",
       "      <td>144</td>\n",
       "      <td>318775f8-28d0-40e3-81b8-c64ff13025c6</td>\n",
       "      <td>USER_06230</td>\n",
       "      <td>2023-08-29 14:29:00</td>\n",
       "      <td>Internet Bill</td>\n",
       "      <td>4G Unlimited Plan</td>\n",
       "      <td>Airtel Broadband</td>\n",
       "      <td>7160.72</td>\n",
       "      <td>19.52</td>\n",
       "      <td>43.27</td>\n",
       "      <td>198</td>\n",
       "      <td>UPI</td>\n",
       "      <td>Failed</td>\n",
       "      <td>MERCH_0061</td>\n",
       "      <td>iOS</td>\n",
       "      <td>Urban</td>\n",
       "    </tr>\n",
       "  </tbody>\n",
       "</table>\n",
       "</div>"
      ],
      "text/plain": [
       "     idx                        transaction_id     user_id  \\\n",
       "82    83  e204f872-24c1-4cd3-a98e-313027c7dd03  USER_05459   \n",
       "113  114  0417b394-5ecb-4b8f-b47d-4a5083857e09  USER_09924   \n",
       "143  144  318775f8-28d0-40e3-81b8-c64ff13025c6  USER_06230   \n",
       "\n",
       "       transaction_date  product_category       product_name  \\\n",
       "82  2023-08-23 20:10:00    Loan Repayment      Home Loan EMI   \n",
       "113 2023-08-26 02:13:00  Grocery Shopping       Basmati Rice   \n",
       "143 2023-08-29 14:29:00     Internet Bill  4G Unlimited Plan   \n",
       "\n",
       "        merchant_name  product_amount  transaction_fee  cashback  \\\n",
       "82                SBI         4527.36            44.44     43.92   \n",
       "113           Grofers         1142.21            35.62     42.15   \n",
       "143  Airtel Broadband         7160.72            19.52     43.27   \n",
       "\n",
       "     loyalty_points  payment_method transaction_status merchant_id  \\\n",
       "82              771      Debit Card             Failed  MERCH_0086   \n",
       "113             124  Wallet Balance             Failed  MERCH_0943   \n",
       "143             198             UPI             Failed  MERCH_0061   \n",
       "\n",
       "    device_type location  \n",
       "82      Android    Urban  \n",
       "113     Android    Urban  \n",
       "143         iOS    Urban  "
      ]
     },
     "execution_count": 537,
     "metadata": {},
     "output_type": "execute_result"
    }
   ],
   "source": [
    "unsuccessful_transactions = df[df['transaction_status'] != 'Successful']\n",
    "unsuccessful_transactions.head(3)"
   ]
  },
  {
   "cell_type": "code",
   "execution_count": 538,
   "id": "28ba9012",
   "metadata": {},
   "outputs": [
    {
     "data": {
      "text/html": [
       "<div>\n",
       "<style scoped>\n",
       "    .dataframe tbody tr th:only-of-type {\n",
       "        vertical-align: middle;\n",
       "    }\n",
       "\n",
       "    .dataframe tbody tr th {\n",
       "        vertical-align: top;\n",
       "    }\n",
       "\n",
       "    .dataframe thead th {\n",
       "        text-align: right;\n",
       "    }\n",
       "</style>\n",
       "<table border=\"1\" class=\"dataframe\">\n",
       "  <thead>\n",
       "    <tr style=\"text-align: right;\">\n",
       "      <th></th>\n",
       "      <th>product_amount</th>\n",
       "      <th>transaction_fee</th>\n",
       "      <th>cashback</th>\n",
       "      <th>loyalty_points</th>\n",
       "    </tr>\n",
       "  </thead>\n",
       "  <tbody>\n",
       "    <tr>\n",
       "      <th>count</th>\n",
       "      <td>245.000000</td>\n",
       "      <td>245.000000</td>\n",
       "      <td>245.000000</td>\n",
       "      <td>245.000000</td>\n",
       "    </tr>\n",
       "    <tr>\n",
       "      <th>mean</th>\n",
       "      <td>5014.264041</td>\n",
       "      <td>24.586449</td>\n",
       "      <td>48.335061</td>\n",
       "      <td>500.416327</td>\n",
       "    </tr>\n",
       "    <tr>\n",
       "      <th>min</th>\n",
       "      <td>13.330000</td>\n",
       "      <td>0.110000</td>\n",
       "      <td>0.300000</td>\n",
       "      <td>1.000000</td>\n",
       "    </tr>\n",
       "    <tr>\n",
       "      <th>25%</th>\n",
       "      <td>2477.220000</td>\n",
       "      <td>11.400000</td>\n",
       "      <td>22.950000</td>\n",
       "      <td>242.000000</td>\n",
       "    </tr>\n",
       "    <tr>\n",
       "      <th>50%</th>\n",
       "      <td>4884.920000</td>\n",
       "      <td>24.190000</td>\n",
       "      <td>50.040000</td>\n",
       "      <td>518.000000</td>\n",
       "    </tr>\n",
       "    <tr>\n",
       "      <th>75%</th>\n",
       "      <td>7683.130000</td>\n",
       "      <td>37.110000</td>\n",
       "      <td>72.440000</td>\n",
       "      <td>750.000000</td>\n",
       "    </tr>\n",
       "    <tr>\n",
       "      <th>max</th>\n",
       "      <td>9993.540000</td>\n",
       "      <td>49.900000</td>\n",
       "      <td>99.370000</td>\n",
       "      <td>996.000000</td>\n",
       "    </tr>\n",
       "    <tr>\n",
       "      <th>std</th>\n",
       "      <td>2970.199984</td>\n",
       "      <td>14.718212</td>\n",
       "      <td>28.408851</td>\n",
       "      <td>282.711415</td>\n",
       "    </tr>\n",
       "  </tbody>\n",
       "</table>\n",
       "</div>"
      ],
      "text/plain": [
       "       product_amount  transaction_fee    cashback  loyalty_points\n",
       "count      245.000000       245.000000  245.000000      245.000000\n",
       "mean      5014.264041        24.586449   48.335061      500.416327\n",
       "min         13.330000         0.110000    0.300000        1.000000\n",
       "25%       2477.220000        11.400000   22.950000      242.000000\n",
       "50%       4884.920000        24.190000   50.040000      518.000000\n",
       "75%       7683.130000        37.110000   72.440000      750.000000\n",
       "max       9993.540000        49.900000   99.370000      996.000000\n",
       "std       2970.199984        14.718212   28.408851      282.711415"
      ]
     },
     "execution_count": 538,
     "metadata": {},
     "output_type": "execute_result"
    }
   ],
   "source": [
    "unsuccessful_transactions.describe().drop(columns=['idx','transaction_date'])"
   ]
  },
  {
   "cell_type": "code",
   "execution_count": 539,
   "id": "b81fe6f1",
   "metadata": {},
   "outputs": [
    {
     "data": {
      "text/html": [
       "<div>\n",
       "<style scoped>\n",
       "    .dataframe tbody tr th:only-of-type {\n",
       "        vertical-align: middle;\n",
       "    }\n",
       "\n",
       "    .dataframe tbody tr th {\n",
       "        vertical-align: top;\n",
       "    }\n",
       "\n",
       "    .dataframe thead th {\n",
       "        text-align: right;\n",
       "    }\n",
       "</style>\n",
       "<table border=\"1\" class=\"dataframe\">\n",
       "  <thead>\n",
       "    <tr style=\"text-align: right;\">\n",
       "      <th></th>\n",
       "      <th>product_amount</th>\n",
       "      <th>transaction_fee</th>\n",
       "      <th>cashback</th>\n",
       "      <th>loyalty_points</th>\n",
       "    </tr>\n",
       "  </thead>\n",
       "  <tbody>\n",
       "    <tr>\n",
       "      <th>count</th>\n",
       "      <td>4755.000000</td>\n",
       "      <td>4755.000000</td>\n",
       "      <td>4755.000000</td>\n",
       "      <td>4755.000000</td>\n",
       "    </tr>\n",
       "    <tr>\n",
       "      <th>mean</th>\n",
       "      <td>4954.578111</td>\n",
       "      <td>25.219914</td>\n",
       "      <td>50.778511</td>\n",
       "      <td>498.706625</td>\n",
       "    </tr>\n",
       "    <tr>\n",
       "      <th>min</th>\n",
       "      <td>10.090000</td>\n",
       "      <td>0.010000</td>\n",
       "      <td>0.000000</td>\n",
       "      <td>0.000000</td>\n",
       "    </tr>\n",
       "    <tr>\n",
       "      <th>25%</th>\n",
       "      <td>2450.965000</td>\n",
       "      <td>12.715000</td>\n",
       "      <td>26.680000</td>\n",
       "      <td>246.000000</td>\n",
       "    </tr>\n",
       "    <tr>\n",
       "      <th>50%</th>\n",
       "      <td>4944.250000</td>\n",
       "      <td>25.090000</td>\n",
       "      <td>51.550000</td>\n",
       "      <td>503.000000</td>\n",
       "    </tr>\n",
       "    <tr>\n",
       "      <th>75%</th>\n",
       "      <td>7433.885000</td>\n",
       "      <td>37.990000</td>\n",
       "      <td>75.170000</td>\n",
       "      <td>749.000000</td>\n",
       "    </tr>\n",
       "    <tr>\n",
       "      <th>max</th>\n",
       "      <td>9996.950000</td>\n",
       "      <td>49.990000</td>\n",
       "      <td>100.000000</td>\n",
       "      <td>999.000000</td>\n",
       "    </tr>\n",
       "    <tr>\n",
       "      <th>std</th>\n",
       "      <td>2880.868656</td>\n",
       "      <td>14.526700</td>\n",
       "      <td>28.526157</td>\n",
       "      <td>289.309734</td>\n",
       "    </tr>\n",
       "  </tbody>\n",
       "</table>\n",
       "</div>"
      ],
      "text/plain": [
       "       product_amount  transaction_fee     cashback  loyalty_points\n",
       "count     4755.000000      4755.000000  4755.000000     4755.000000\n",
       "mean      4954.578111        25.219914    50.778511      498.706625\n",
       "min         10.090000         0.010000     0.000000        0.000000\n",
       "25%       2450.965000        12.715000    26.680000      246.000000\n",
       "50%       4944.250000        25.090000    51.550000      503.000000\n",
       "75%       7433.885000        37.990000    75.170000      749.000000\n",
       "max       9996.950000        49.990000   100.000000      999.000000\n",
       "std       2880.868656        14.526700    28.526157      289.309734"
      ]
     },
     "execution_count": 539,
     "metadata": {},
     "output_type": "execute_result"
    }
   ],
   "source": [
    "successful_transactions.describe().drop(columns=['idx','transaction_date'])"
   ]
  },
  {
   "cell_type": "code",
   "execution_count": 540,
   "id": "f423f606",
   "metadata": {},
   "outputs": [],
   "source": [
    "weekly_unsuccessful_transactions = unsuccessful_transactions.groupby(df['transaction_date'].dt.to_period('W')).size().reset_index(name='transaction_count')\n",
    "monthly_unsuccessful_transactions = unsuccessful_transactions.groupby(df['transaction_date'].dt.to_period('M')).size().reset_index(name='transaction_count')"
   ]
  },
  {
   "cell_type": "code",
   "execution_count": 545,
   "id": "f88a0885",
   "metadata": {},
   "outputs": [
    {
     "data": {
      "text/plain": [
       "Text(0.5, 1.0, 'weekly Unsuccessful Transactions')"
      ]
     },
     "execution_count": 545,
     "metadata": {},
     "output_type": "execute_result"
    },
    {
     "data": {
      "image/png": "[encoded data removed]",
      "text/plain": [
       "<Figure size 640x480 with 1 Axes>"
      ]
     },
     "metadata": {},
     "output_type": "display_data"
    }
   ],
   "source": [
    "sns.lineplot(data=weekly_unsuccessful_transactions)\n",
    "plt.title('weekly Unsuccessful Transactions')"
   ]
  },
  {
   "cell_type": "code",
   "execution_count": 546,
   "id": "06bfd4ac",
   "metadata": {},
   "outputs": [
    {
     "data": {
      "text/plain": [
       "Text(0.5, 1.0, 'Monthly Unsuccessful Transactions')"
      ]
     },
     "execution_count": 546,
     "metadata": {},
     "output_type": "execute_result"
    },
    {
     "data": {
      "image/png": "[encoded data removed]",
      "text/plain": [
       "<Figure size 640x480 with 1 Axes>"
      ]
     },
     "metadata": {},
     "output_type": "display_data"
    }
   ],
   "source": [
    "sns.lineplot(data=monthly_unsuccessful_transactions)\n",
    "plt.title('Monthly Unsuccessful Transactions')"
   ]
  },
  {
   "cell_type": "code",
   "execution_count": 543,
   "id": "d48dd7ce",
   "metadata": {},
   "outputs": [
    {
     "data": {
      "text/plain": [
       "<Axes: xlabel='count', ylabel='merchant_name'>"
      ]
     },
     "execution_count": 543,
     "metadata": {},
     "output_type": "execute_result"
    },
    {
     "data": {
      "image/png": "[encoded data removed]",
      "text/plain": [
       "<Figure size 640x480 with 1 Axes>"
      ]
     },
     "metadata": {},
     "output_type": "display_data"
    }
   ],
   "source": [
    "sns.countplot(y=\"merchant_name\", data=unsuccessful_transactions)  # Repeat user product category distribution"
   ]
  },
  {
   "cell_type": "code",
   "execution_count": null,
   "id": "434d77f2",
   "metadata": {},
   "outputs": [],
   "source": [
    "merchantwise_unsuccessful_data = pd.DataFrame(unsuccessful_transactions.merchant_name.value_counts().sort_values(ascending=False)) # Sorting by merchant_id for better visualization"
   ]
  },
  {
   "cell_type": "code",
   "execution_count": null,
   "id": "71f7754d",
   "metadata": {},
   "outputs": [],
   "source": [
    "# considering cases above 75th percentile for better visualization\n",
    "merchantwise_unsuccessful_data = merchantwise_unsuccessful_data[merchantwise_unsuccessful_data['count']> 4].T"
   ]
  },
  {
   "cell_type": "code",
   "execution_count": null,
   "id": "3886a211",
   "metadata": {},
   "outputs": [],
   "source": [
    "high_unsuccessful_merchant_products = merchantwise_unsuccessful_data.keys()"
   ]
  },
  {
   "cell_type": "code",
   "execution_count": null,
   "id": "cefe540b",
   "metadata": {},
   "outputs": [],
   "source": [
    "merchant_wise_unsuccessful_transactions = unsuccessful_transactions[unsuccessful_transactions['merchant_name'].isin(high_unsuccessful_merchant_products)]  # Example to filter unsuccessful transactions for a specific merchant"
   ]
  },
  {
   "cell_type": "code",
   "execution_count": null,
   "id": "2495f170",
   "metadata": {},
   "outputs": [
    {
     "data": {
      "text/plain": [
       "<Axes: xlabel='count', ylabel='product_category'>"
      ]
     },
     "metadata": {},
     "output_type": "display_data"
    },
    {
     "data": {
      "image/png": "[encoded data removed]",
      "text/plain": [
       "<Figure size 640x480 with 1 Axes>"
      ]
     },
     "metadata": {},
     "output_type": "display_data"
    }
   ],
   "source": [
    "sns.countplot(y=\"product_category\", data=merchant_wise_unsuccessful_transactions)  # Repeat user product category distribution"
   ]
  },
  {
   "cell_type": "code",
   "execution_count": 536,
   "id": "af4aba69",
   "metadata": {},
   "outputs": [
    {
     "data": {
      "text/html": [
       "<div>\n",
       "<style scoped>\n",
       "    .dataframe tbody tr th:only-of-type {\n",
       "        vertical-align: middle;\n",
       "    }\n",
       "\n",
       "    .dataframe tbody tr th {\n",
       "        vertical-align: top;\n",
       "    }\n",
       "\n",
       "    .dataframe thead th {\n",
       "        text-align: right;\n",
       "    }\n",
       "</style>\n",
       "<table border=\"1\" class=\"dataframe\">\n",
       "  <thead>\n",
       "    <tr style=\"text-align: right;\">\n",
       "      <th></th>\n",
       "      <th>idx</th>\n",
       "      <th>transaction_id</th>\n",
       "      <th>user_id</th>\n",
       "      <th>transaction_date</th>\n",
       "      <th>product_category</th>\n",
       "      <th>product_name</th>\n",
       "      <th>merchant_name</th>\n",
       "      <th>product_amount</th>\n",
       "      <th>transaction_fee</th>\n",
       "      <th>cashback</th>\n",
       "      <th>loyalty_points</th>\n",
       "      <th>payment_method</th>\n",
       "      <th>transaction_status</th>\n",
       "      <th>merchant_id</th>\n",
       "      <th>device_type</th>\n",
       "      <th>location</th>\n",
       "    </tr>\n",
       "  </thead>\n",
       "  <tbody>\n",
       "    <tr>\n",
       "      <th>1989</th>\n",
       "      <td>1990</td>\n",
       "      <td>d9a00948-2bcd-4a1d-80ed-e22984b148e6</td>\n",
       "      <td>USER_07729</td>\n",
       "      <td>2024-01-13 10:18:00</td>\n",
       "      <td>Internet Bill</td>\n",
       "      <td>Fiber 100Mbps Plan</td>\n",
       "      <td>Hathway</td>\n",
       "      <td>6664.30</td>\n",
       "      <td>34.09</td>\n",
       "      <td>25.10</td>\n",
       "      <td>407</td>\n",
       "      <td>Credit Card</td>\n",
       "      <td>Pending</td>\n",
       "      <td>MERCH_0005</td>\n",
       "      <td>Android</td>\n",
       "      <td>Urban</td>\n",
       "    </tr>\n",
       "    <tr>\n",
       "      <th>2588</th>\n",
       "      <td>2589</td>\n",
       "      <td>99a995ae-050e-441e-a318-7528e5ff8331</td>\n",
       "      <td>USER_01150</td>\n",
       "      <td>2024-02-26 00:01:00</td>\n",
       "      <td>Internet Bill</td>\n",
       "      <td>Broadband 50Mbps Plan</td>\n",
       "      <td>Hathway</td>\n",
       "      <td>75.86</td>\n",
       "      <td>49.11</td>\n",
       "      <td>75.53</td>\n",
       "      <td>577</td>\n",
       "      <td>Wallet Balance</td>\n",
       "      <td>Pending</td>\n",
       "      <td>MERCH_0163</td>\n",
       "      <td>Web</td>\n",
       "      <td>Urban</td>\n",
       "    </tr>\n",
       "    <tr>\n",
       "      <th>597</th>\n",
       "      <td>598</td>\n",
       "      <td>3b86174a-2b9f-4641-9e4d-22e72c7fae54</td>\n",
       "      <td>USER_02303</td>\n",
       "      <td>2023-10-01 14:16:00</td>\n",
       "      <td>Internet Bill</td>\n",
       "      <td>Business Internet Plan</td>\n",
       "      <td>ACT Fibernet</td>\n",
       "      <td>1605.49</td>\n",
       "      <td>21.67</td>\n",
       "      <td>64.52</td>\n",
       "      <td>745</td>\n",
       "      <td>Wallet Balance</td>\n",
       "      <td>Pending</td>\n",
       "      <td>MERCH_0315</td>\n",
       "      <td>Android</td>\n",
       "      <td>Urban</td>\n",
       "    </tr>\n",
       "  </tbody>\n",
       "</table>\n",
       "</div>"
      ],
      "text/plain": [
       "       idx                        transaction_id     user_id  \\\n",
       "1989  1990  d9a00948-2bcd-4a1d-80ed-e22984b148e6  USER_07729   \n",
       "2588  2589  99a995ae-050e-441e-a318-7528e5ff8331  USER_01150   \n",
       "597    598  3b86174a-2b9f-4641-9e4d-22e72c7fae54  USER_02303   \n",
       "\n",
       "        transaction_date product_category            product_name  \\\n",
       "1989 2024-01-13 10:18:00    Internet Bill      Fiber 100Mbps Plan   \n",
       "2588 2024-02-26 00:01:00    Internet Bill   Broadband 50Mbps Plan   \n",
       "597  2023-10-01 14:16:00    Internet Bill  Business Internet Plan   \n",
       "\n",
       "     merchant_name  product_amount  transaction_fee  cashback  loyalty_points  \\\n",
       "1989       Hathway         6664.30            34.09     25.10             407   \n",
       "2588       Hathway           75.86            49.11     75.53             577   \n",
       "597   ACT Fibernet         1605.49            21.67     64.52             745   \n",
       "\n",
       "      payment_method transaction_status merchant_id device_type location  \n",
       "1989     Credit Card            Pending  MERCH_0005     Android    Urban  \n",
       "2588  Wallet Balance            Pending  MERCH_0163         Web    Urban  \n",
       "597   Wallet Balance            Pending  MERCH_0315     Android    Urban  "
      ]
     },
     "execution_count": 536,
     "metadata": {},
     "output_type": "execute_result"
    }
   ],
   "source": [
    "merchant_wise_unsuccessful_transactions[merchant_wise_unsuccessful_transactions[\"product_category\"] == \"Internet Bill\"].head(3)  # Example to filter unsuccessful transactions for a specific product category"
   ]
  },
  {
   "cell_type": "code",
   "execution_count": 463,
   "id": "4a614fc2",
   "metadata": {},
   "outputs": [
    {
     "data": {
      "text/plain": [
       "<Axes: xlabel='count', ylabel='merchant_name'>"
      ]
     },
     "execution_count": 463,
     "metadata": {},
     "output_type": "execute_result"
    },
    {
     "data": {
      "image/png": "[encoded data removed]",
      "text/plain": [
       "<Figure size 640x480 with 1 Axes>"
      ]
     },
     "metadata": {},
     "output_type": "display_data"
    }
   ],
   "source": [
    "sns.countplot(y=\"merchant_name\", data=repeat_user_data)  # Repeat user product category distribution"
   ]
  },
  {
   "cell_type": "markdown",
   "id": "b9663646",
   "metadata": {},
   "source": [
    "### Observation: Internet Bill contains high failure rate."
   ]
  },
  {
   "cell_type": "markdown",
   "id": "3b1c7705",
   "metadata": {},
   "source": [
    "## Identifying user frequency"
   ]
  },
  {
   "cell_type": "code",
   "execution_count": 14,
   "id": "810bbb07",
   "metadata": {},
   "outputs": [],
   "source": [
    "user_frequency = df.groupby(\"user_id\").size().reset_index(name='transaction_count')"
   ]
  },
  {
   "cell_type": "code",
   "execution_count": 120,
   "id": "08840272",
   "metadata": {},
   "outputs": [
    {
     "data": {
      "text/html": [
       "<div>\n",
       "<style scoped>\n",
       "    .dataframe tbody tr th:only-of-type {\n",
       "        vertical-align: middle;\n",
       "    }\n",
       "\n",
       "    .dataframe tbody tr th {\n",
       "        vertical-align: top;\n",
       "    }\n",
       "\n",
       "    .dataframe thead th {\n",
       "        text-align: right;\n",
       "    }\n",
       "</style>\n",
       "<table border=\"1\" class=\"dataframe\">\n",
       "  <thead>\n",
       "    <tr style=\"text-align: right;\">\n",
       "      <th></th>\n",
       "      <th>transaction_count</th>\n",
       "      <th>user_count</th>\n",
       "    </tr>\n",
       "  </thead>\n",
       "  <tbody>\n",
       "    <tr>\n",
       "      <th>0</th>\n",
       "      <td>1</td>\n",
       "      <td>3029</td>\n",
       "    </tr>\n",
       "    <tr>\n",
       "      <th>1</th>\n",
       "      <td>2</td>\n",
       "      <td>759</td>\n",
       "    </tr>\n",
       "    <tr>\n",
       "      <th>2</th>\n",
       "      <td>3</td>\n",
       "      <td>123</td>\n",
       "    </tr>\n",
       "    <tr>\n",
       "      <th>3</th>\n",
       "      <td>4</td>\n",
       "      <td>21</td>\n",
       "    </tr>\n",
       "  </tbody>\n",
       "</table>\n",
       "</div>"
      ],
      "text/plain": [
       "   transaction_count  user_count\n",
       "0                  1        3029\n",
       "1                  2         759\n",
       "2                  3         123\n",
       "3                  4          21"
      ]
     },
     "execution_count": 120,
     "metadata": {},
     "output_type": "execute_result"
    }
   ],
   "source": [
    "user_frequency.groupby(\"transaction_count\").size().reset_index(name='user_count').sort_values(by='transaction_count')"
   ]
  },
  {
   "cell_type": "markdown",
   "id": "2098b83b-aa35-4d1b-817e-422d39fa875b",
   "metadata": {},
   "source": [
    "#### Observation : 3029 users out of 3932 unique users are one time customers which indicates high churn risk,(i.e 77.03%)"
   ]
  },
  {
   "cell_type": "markdown",
   "id": "f221143f-9763-4534-b6b6-6797ea426e75",
   "metadata": {},
   "source": [
    "## Understanding Repeat User behaviour"
   ]
  },
  {
   "cell_type": "code",
   "execution_count": 68,
   "id": "51e3acdf",
   "metadata": {},
   "outputs": [],
   "source": [
    "target_min_repetition = 2\n",
    "repeat_users = user_frequency[user_frequency['transaction_count']  >= target_min_repetition][\"user_id\"].values"
   ]
  },
  {
   "cell_type": "code",
   "execution_count": 193,
   "id": "c18a4852",
   "metadata": {},
   "outputs": [
    {
     "data": {
      "text/html": [
       "<div>\n",
       "<style scoped>\n",
       "    .dataframe tbody tr th:only-of-type {\n",
       "        vertical-align: middle;\n",
       "    }\n",
       "\n",
       "    .dataframe tbody tr th {\n",
       "        vertical-align: top;\n",
       "    }\n",
       "\n",
       "    .dataframe thead th {\n",
       "        text-align: right;\n",
       "    }\n",
       "</style>\n",
       "<table border=\"1\" class=\"dataframe\">\n",
       "  <thead>\n",
       "    <tr style=\"text-align: right;\">\n",
       "      <th></th>\n",
       "      <th>idx</th>\n",
       "      <th>transaction_id</th>\n",
       "      <th>user_id</th>\n",
       "      <th>transaction_date</th>\n",
       "      <th>product_category</th>\n",
       "      <th>product_name</th>\n",
       "      <th>merchant_name</th>\n",
       "      <th>product_amount</th>\n",
       "      <th>transaction_fee</th>\n",
       "      <th>cashback</th>\n",
       "      <th>loyalty_points</th>\n",
       "      <th>payment_method</th>\n",
       "      <th>transaction_status</th>\n",
       "      <th>merchant_id</th>\n",
       "      <th>device_type</th>\n",
       "      <th>location</th>\n",
       "    </tr>\n",
       "  </thead>\n",
       "  <tbody>\n",
       "    <tr>\n",
       "      <th>6</th>\n",
       "      <td>7</td>\n",
       "      <td>89df83e5-98d3-4c0f-b273-59b0d057fc34</td>\n",
       "      <td>USER_05280</td>\n",
       "      <td>2023-08-19 07:15:00</td>\n",
       "      <td>Hotel Booking</td>\n",
       "      <td>Villa</td>\n",
       "      <td>Treebo</td>\n",
       "      <td>6688.17</td>\n",
       "      <td>49.62</td>\n",
       "      <td>22.18</td>\n",
       "      <td>58</td>\n",
       "      <td>UPI</td>\n",
       "      <td>Successful</td>\n",
       "      <td>MERCH_0441</td>\n",
       "      <td>Android</td>\n",
       "      <td>Urban</td>\n",
       "    </tr>\n",
       "    <tr>\n",
       "      <th>7</th>\n",
       "      <td>8</td>\n",
       "      <td>1a8ab910-657a-4e57-90ec-90420290e8a1</td>\n",
       "      <td>USER_03459</td>\n",
       "      <td>2023-08-19 07:57:00</td>\n",
       "      <td>Gas Bill</td>\n",
       "      <td>Piped Natural Gas</td>\n",
       "      <td>Adani Gas</td>\n",
       "      <td>1802.28</td>\n",
       "      <td>0.11</td>\n",
       "      <td>14.56</td>\n",
       "      <td>950</td>\n",
       "      <td>UPI</td>\n",
       "      <td>Successful</td>\n",
       "      <td>MERCH_0938</td>\n",
       "      <td>iOS</td>\n",
       "      <td>Urban</td>\n",
       "    </tr>\n",
       "    <tr>\n",
       "      <th>9</th>\n",
       "      <td>10</td>\n",
       "      <td>19c7d2d5-8566-42ba-95aa-8d803cfeeffd</td>\n",
       "      <td>USER_07264</td>\n",
       "      <td>2023-08-19 10:01:00</td>\n",
       "      <td>Insurance Premium</td>\n",
       "      <td>Term Life Policy</td>\n",
       "      <td>Max Life</td>\n",
       "      <td>2207.90</td>\n",
       "      <td>45.70</td>\n",
       "      <td>21.87</td>\n",
       "      <td>129</td>\n",
       "      <td>Wallet Balance</td>\n",
       "      <td>Successful</td>\n",
       "      <td>MERCH_0245</td>\n",
       "      <td>iOS</td>\n",
       "      <td>Urban</td>\n",
       "    </tr>\n",
       "  </tbody>\n",
       "</table>\n",
       "</div>"
      ],
      "text/plain": [
       "   idx                        transaction_id     user_id    transaction_date  \\\n",
       "6    7  89df83e5-98d3-4c0f-b273-59b0d057fc34  USER_05280 2023-08-19 07:15:00   \n",
       "7    8  1a8ab910-657a-4e57-90ec-90420290e8a1  USER_03459 2023-08-19 07:57:00   \n",
       "9   10  19c7d2d5-8566-42ba-95aa-8d803cfeeffd  USER_07264 2023-08-19 10:01:00   \n",
       "\n",
       "    product_category       product_name merchant_name  product_amount  \\\n",
       "6      Hotel Booking              Villa        Treebo         6688.17   \n",
       "7           Gas Bill  Piped Natural Gas     Adani Gas         1802.28   \n",
       "9  Insurance Premium   Term Life Policy      Max Life         2207.90   \n",
       "\n",
       "   transaction_fee  cashback  loyalty_points  payment_method  \\\n",
       "6            49.62     22.18              58             UPI   \n",
       "7             0.11     14.56             950             UPI   \n",
       "9            45.70     21.87             129  Wallet Balance   \n",
       "\n",
       "  transaction_status merchant_id device_type location  \n",
       "6         Successful  MERCH_0441     Android    Urban  \n",
       "7         Successful  MERCH_0938         iOS    Urban  \n",
       "9         Successful  MERCH_0245         iOS    Urban  "
      ]
     },
     "execution_count": 193,
     "metadata": {},
     "output_type": "execute_result"
    }
   ],
   "source": [
    "repeat_user_data = df[df['user_id'].isin(repeat_users)]\n",
    "repeat_user_data.head(3)"
   ]
  },
  {
   "cell_type": "code",
   "execution_count": 547,
   "id": "d2addf04",
   "metadata": {},
   "outputs": [
    {
     "data": {
      "text/plain": [
       "<Axes: xlabel='location', ylabel='count'>"
      ]
     },
     "execution_count": 547,
     "metadata": {},
     "output_type": "execute_result"
    },
    {
     "data": {
      "image/png": "[encoded data removed]",
      "text/plain": [
       "<Figure size 640x480 with 1 Axes>"
      ]
     },
     "metadata": {},
     "output_type": "display_data"
    }
   ],
   "source": [
    "sns.countplot(x=\"location\", data=repeat_user_data)  # Repeat user product category distribution"
   ]
  },
  {
   "cell_type": "code",
   "execution_count": 139,
   "id": "c0a656d5",
   "metadata": {
    "vscode": {
     "languageId": "ruby"
    }
   },
   "outputs": [
    {
     "data": {
      "text/html": [
       "<div>\n",
       "<style scoped>\n",
       "    .dataframe tbody tr th:only-of-type {\n",
       "        vertical-align: middle;\n",
       "    }\n",
       "\n",
       "    .dataframe tbody tr th {\n",
       "        vertical-align: top;\n",
       "    }\n",
       "\n",
       "    .dataframe thead th {\n",
       "        text-align: right;\n",
       "    }\n",
       "</style>\n",
       "<table border=\"1\" class=\"dataframe\">\n",
       "  <thead>\n",
       "    <tr style=\"text-align: right;\">\n",
       "      <th></th>\n",
       "      <th>location</th>\n",
       "      <th>repeat_percentage</th>\n",
       "    </tr>\n",
       "  </thead>\n",
       "  <tbody>\n",
       "    <tr>\n",
       "      <th>0</th>\n",
       "      <td>Rural</td>\n",
       "      <td>35.140562</td>\n",
       "    </tr>\n",
       "    <tr>\n",
       "      <th>1</th>\n",
       "      <td>Suburban</td>\n",
       "      <td>33.824975</td>\n",
       "    </tr>\n",
       "    <tr>\n",
       "      <th>2</th>\n",
       "      <td>Urban</td>\n",
       "      <td>23.758967</td>\n",
       "    </tr>\n",
       "  </tbody>\n",
       "</table>\n",
       "</div>"
      ],
      "text/plain": [
       "   location  repeat_percentage\n",
       "0     Rural          35.140562\n",
       "1  Suburban          33.824975\n",
       "2     Urban          23.758967"
      ]
     },
     "execution_count": 139,
     "metadata": {},
     "output_type": "execute_result"
    }
   ],
   "source": [
    "# Group by location for both dataframes\n",
    "repeat_counts = repeat_user_data.groupby('location')['user_id'].nunique().reset_index(name='repeat_count')\n",
    "total_users = df.groupby('location')['user_id'].nunique().reset_index(name='total_count')\n",
    "\n",
    "# Merge on location\n",
    "merged = pd.merge(repeat_counts, total_counts, on='location', how='left')\n",
    "\n",
    "# Calculate percentage\n",
    "merged['repeat_percentage'] = (merged['repeat_count'] / merged['total_count']) * 100\n",
    "merged[['location', 'repeat_percentage']].sort_values(by='repeat_percentage', ascending=False)"
   ]
  },
  {
   "cell_type": "markdown",
   "id": "d31ba2c6",
   "metadata": {},
   "source": [
    "\n",
    "### Observation : Urban churn rate is compartively low despite high user volume"
   ]
  },
  {
   "cell_type": "code",
   "execution_count": 217,
   "id": "7546cc79",
   "metadata": {
    "vscode": {
     "languageId": "ruby"
    }
   },
   "outputs": [
    {
     "data": {
      "text/plain": [
       "np.float64(4939.135535261288)"
      ]
     },
     "execution_count": 217,
     "metadata": {},
     "output_type": "execute_result"
    }
   ],
   "source": [
    "repeat_user_data.product_amount.values.mean()  # Average transaction amount for repeat users"
   ]
  },
  {
   "cell_type": "markdown",
   "id": "71408783",
   "metadata": {},
   "source": [
    "Repeat customers are high in rural areas compared to urban areas, play with number of target_min_repetition rate to understand more about each frequency"
   ]
  },
  {
   "cell_type": "code",
   "execution_count": null,
   "id": "e981b641",
   "metadata": {
    "vscode": {
     "languageId": "ruby"
    }
   },
   "outputs": [],
   "source": [
    "unsuccessful_transactions_of_repeat_users.groupby('payment_method')['transaction_status'].value_counts().unstack().fillna(0)"
   ]
  },
  {
   "cell_type": "markdown",
   "id": "f7c14af6",
   "metadata": {},
   "source": [
    "# Understanding onetime user behaviour"
   ]
  },
  {
   "cell_type": "code",
   "execution_count": 74,
   "id": "c7135013",
   "metadata": {},
   "outputs": [],
   "source": [
    "single_transaction_users = user_frequency[user_frequency['transaction_count'] == 1][\"user_id\"].values"
   ]
  },
  {
   "cell_type": "code",
   "execution_count": 75,
   "id": "e765a491",
   "metadata": {},
   "outputs": [],
   "source": [
    "single_user_data = df[df['user_id'].isin(single_transaction_users)]"
   ]
  },
  {
   "cell_type": "code",
   "execution_count": 76,
   "id": "87be3bc5",
   "metadata": {},
   "outputs": [
    {
     "data": {
      "text/plain": [
       "<Axes: xlabel='count', ylabel='location'>"
      ]
     },
     "execution_count": 76,
     "metadata": {},
     "output_type": "execute_result"
    },
    {
     "data": {
      "image/png": "[encoded data removed]",
      "text/plain": [
       "<Figure size 640x480 with 1 Axes>"
      ]
     },
     "metadata": {},
     "output_type": "display_data"
    }
   ],
   "source": [
    "sns.countplot(y=\"location\", data=single_user_data, order=single_user_data['location'].value_counts().index)  # Single transaction users by location"
   ]
  },
  {
   "cell_type": "code",
   "execution_count": 238,
   "id": "bc1cdd83",
   "metadata": {},
   "outputs": [
    {
     "data": {
      "text/html": [
       "<div>\n",
       "<style scoped>\n",
       "    .dataframe tbody tr th:only-of-type {\n",
       "        vertical-align: middle;\n",
       "    }\n",
       "\n",
       "    .dataframe tbody tr th {\n",
       "        vertical-align: top;\n",
       "    }\n",
       "\n",
       "    .dataframe thead th {\n",
       "        text-align: right;\n",
       "    }\n",
       "</style>\n",
       "<table border=\"1\" class=\"dataframe\">\n",
       "  <thead>\n",
       "    <tr style=\"text-align: right;\">\n",
       "      <th></th>\n",
       "      <th>payment_method</th>\n",
       "      <th>payment_count</th>\n",
       "    </tr>\n",
       "  </thead>\n",
       "  <tbody>\n",
       "    <tr>\n",
       "      <th>2</th>\n",
       "      <td>Debit Card</td>\n",
       "      <td>641</td>\n",
       "    </tr>\n",
       "    <tr>\n",
       "      <th>0</th>\n",
       "      <td>Bank Transfer</td>\n",
       "      <td>618</td>\n",
       "    </tr>\n",
       "    <tr>\n",
       "      <th>1</th>\n",
       "      <td>Credit Card</td>\n",
       "      <td>608</td>\n",
       "    </tr>\n",
       "    <tr>\n",
       "      <th>3</th>\n",
       "      <td>UPI</td>\n",
       "      <td>608</td>\n",
       "    </tr>\n",
       "    <tr>\n",
       "      <th>4</th>\n",
       "      <td>Wallet Balance</td>\n",
       "      <td>554</td>\n",
       "    </tr>\n",
       "  </tbody>\n",
       "</table>\n",
       "</div>"
      ],
      "text/plain": [
       "   payment_method  payment_count\n",
       "2      Debit Card            641\n",
       "0   Bank Transfer            618\n",
       "1     Credit Card            608\n",
       "3             UPI            608\n",
       "4  Wallet Balance            554"
      ]
     },
     "execution_count": 238,
     "metadata": {},
     "output_type": "execute_result"
    }
   ],
   "source": [
    "single_user_data.groupby('payment_method')['user_id'].nunique().reset_index(name='payment_count').sort_values(by='payment_count', ascending=False)"
   ]
  },
  {
   "cell_type": "code",
   "execution_count": 239,
   "id": "78090e54",
   "metadata": {},
   "outputs": [
    {
     "data": {
      "text/html": [
       "<div>\n",
       "<style scoped>\n",
       "    .dataframe tbody tr th:only-of-type {\n",
       "        vertical-align: middle;\n",
       "    }\n",
       "\n",
       "    .dataframe tbody tr th {\n",
       "        vertical-align: top;\n",
       "    }\n",
       "\n",
       "    .dataframe thead th {\n",
       "        text-align: right;\n",
       "    }\n",
       "</style>\n",
       "<table border=\"1\" class=\"dataframe\">\n",
       "  <thead>\n",
       "    <tr style=\"text-align: right;\">\n",
       "      <th></th>\n",
       "      <th>idx</th>\n",
       "      <th>transaction_id</th>\n",
       "      <th>user_id</th>\n",
       "      <th>transaction_date</th>\n",
       "      <th>product_category</th>\n",
       "      <th>product_name</th>\n",
       "      <th>merchant_name</th>\n",
       "      <th>product_amount</th>\n",
       "      <th>transaction_fee</th>\n",
       "      <th>cashback</th>\n",
       "      <th>loyalty_points</th>\n",
       "      <th>payment_method</th>\n",
       "      <th>transaction_status</th>\n",
       "      <th>merchant_id</th>\n",
       "      <th>device_type</th>\n",
       "      <th>location</th>\n",
       "    </tr>\n",
       "  </thead>\n",
       "  <tbody>\n",
       "    <tr>\n",
       "      <th>82</th>\n",
       "      <td>83</td>\n",
       "      <td>e204f872-24c1-4cd3-a98e-313027c7dd03</td>\n",
       "      <td>USER_05459</td>\n",
       "      <td>2023-08-23 20:10:00</td>\n",
       "      <td>Loan Repayment</td>\n",
       "      <td>Home Loan EMI</td>\n",
       "      <td>SBI</td>\n",
       "      <td>4527.36</td>\n",
       "      <td>44.44</td>\n",
       "      <td>43.92</td>\n",
       "      <td>771</td>\n",
       "      <td>Debit Card</td>\n",
       "      <td>Failed</td>\n",
       "      <td>MERCH_0086</td>\n",
       "      <td>Android</td>\n",
       "      <td>Urban</td>\n",
       "    </tr>\n",
       "    <tr>\n",
       "      <th>113</th>\n",
       "      <td>114</td>\n",
       "      <td>0417b394-5ecb-4b8f-b47d-4a5083857e09</td>\n",
       "      <td>USER_09924</td>\n",
       "      <td>2023-08-26 02:13:00</td>\n",
       "      <td>Grocery Shopping</td>\n",
       "      <td>Basmati Rice</td>\n",
       "      <td>Grofers</td>\n",
       "      <td>1142.21</td>\n",
       "      <td>35.62</td>\n",
       "      <td>42.15</td>\n",
       "      <td>124</td>\n",
       "      <td>Wallet Balance</td>\n",
       "      <td>Failed</td>\n",
       "      <td>MERCH_0943</td>\n",
       "      <td>Android</td>\n",
       "      <td>Urban</td>\n",
       "    </tr>\n",
       "    <tr>\n",
       "      <th>147</th>\n",
       "      <td>148</td>\n",
       "      <td>e99bf8ee-33fc-4a26-9337-2fb212e2bbec</td>\n",
       "      <td>USER_01234</td>\n",
       "      <td>2023-08-29 20:22:00</td>\n",
       "      <td>Streaming Service</td>\n",
       "      <td>Premium Plan</td>\n",
       "      <td>Netflix</td>\n",
       "      <td>5324.86</td>\n",
       "      <td>44.27</td>\n",
       "      <td>50.04</td>\n",
       "      <td>525</td>\n",
       "      <td>UPI</td>\n",
       "      <td>Failed</td>\n",
       "      <td>MERCH_0118</td>\n",
       "      <td>Android</td>\n",
       "      <td>Rural</td>\n",
       "    </tr>\n",
       "  </tbody>\n",
       "</table>\n",
       "</div>"
      ],
      "text/plain": [
       "     idx                        transaction_id     user_id  \\\n",
       "82    83  e204f872-24c1-4cd3-a98e-313027c7dd03  USER_05459   \n",
       "113  114  0417b394-5ecb-4b8f-b47d-4a5083857e09  USER_09924   \n",
       "147  148  e99bf8ee-33fc-4a26-9337-2fb212e2bbec  USER_01234   \n",
       "\n",
       "       transaction_date   product_category   product_name merchant_name  \\\n",
       "82  2023-08-23 20:10:00     Loan Repayment  Home Loan EMI           SBI   \n",
       "113 2023-08-26 02:13:00   Grocery Shopping   Basmati Rice       Grofers   \n",
       "147 2023-08-29 20:22:00  Streaming Service   Premium Plan       Netflix   \n",
       "\n",
       "     product_amount  transaction_fee  cashback  loyalty_points  \\\n",
       "82          4527.36            44.44     43.92             771   \n",
       "113         1142.21            35.62     42.15             124   \n",
       "147         5324.86            44.27     50.04             525   \n",
       "\n",
       "     payment_method transaction_status merchant_id device_type location  \n",
       "82       Debit Card             Failed  MERCH_0086     Android    Urban  \n",
       "113  Wallet Balance             Failed  MERCH_0943     Android    Urban  \n",
       "147             UPI             Failed  MERCH_0118     Android    Rural  "
      ]
     },
     "execution_count": 239,
     "metadata": {},
     "output_type": "execute_result"
    }
   ],
   "source": [
    "unsuccessful_transactions_of_single_users = single_user_data[single_user_data['transaction_status'] != \"Successful\"]\n",
    "unsuccessful_transactions_of_single_users.head(3)"
   ]
  },
  {
   "cell_type": "code",
   "execution_count": 461,
   "id": "5287ccbd",
   "metadata": {
    "vscode": {
     "languageId": "ruby"
    }
   },
   "outputs": [
    {
     "data": {
      "text/html": [
       "<div>\n",
       "<style scoped>\n",
       "    .dataframe tbody tr th:only-of-type {\n",
       "        vertical-align: middle;\n",
       "    }\n",
       "\n",
       "    .dataframe tbody tr th {\n",
       "        vertical-align: top;\n",
       "    }\n",
       "\n",
       "    .dataframe thead th {\n",
       "        text-align: right;\n",
       "    }\n",
       "</style>\n",
       "<table border=\"1\" class=\"dataframe\">\n",
       "  <thead>\n",
       "    <tr style=\"text-align: right;\">\n",
       "      <th></th>\n",
       "      <th>payment_method</th>\n",
       "      <th>percentage</th>\n",
       "    </tr>\n",
       "  </thead>\n",
       "  <tbody>\n",
       "    <tr>\n",
       "      <th>0</th>\n",
       "      <td>Credit Card</td>\n",
       "      <td>25.34</td>\n",
       "    </tr>\n",
       "    <tr>\n",
       "      <th>2</th>\n",
       "      <td>UPI</td>\n",
       "      <td>20.55</td>\n",
       "    </tr>\n",
       "    <tr>\n",
       "      <th>1</th>\n",
       "      <td>Wallet Balance</td>\n",
       "      <td>19.18</td>\n",
       "    </tr>\n",
       "    <tr>\n",
       "      <th>3</th>\n",
       "      <td>Bank Transfer</td>\n",
       "      <td>18.49</td>\n",
       "    </tr>\n",
       "    <tr>\n",
       "      <th>4</th>\n",
       "      <td>Debit Card</td>\n",
       "      <td>16.44</td>\n",
       "    </tr>\n",
       "  </tbody>\n",
       "</table>\n",
       "</div>"
      ],
      "text/plain": [
       "   payment_method  percentage\n",
       "0     Credit Card       25.34\n",
       "2             UPI       20.55\n",
       "1  Wallet Balance       19.18\n",
       "3   Bank Transfer       18.49\n",
       "4      Debit Card       16.44"
      ]
     },
     "execution_count": 461,
     "metadata": {},
     "output_type": "execute_result"
    }
   ],
   "source": [
    "k =unsuccessful_transactions_of_single_users.groupby('payment_method')['transaction_status'].value_counts().unstack().sort_values(by='Pending', ascending=False)\n",
    "pd.DataFrame((k['Failed']+k['Pending'])/ (k['Failed'].sum() + k['Pending'].sum())*100).round(2).reset_index().rename(columns={0: 'percentage'}).sort_values(by='percentage', ascending=False)"
   ]
  },
  {
   "cell_type": "markdown",
   "id": "d822d88f",
   "metadata": {},
   "source": [
    "### Observations : \n",
    "1. Most of the unsuccessful transactions for single users are coming from credit card(More in case of pending)\n",
    "2. Transaction mix of each type of payment is almost similar"
   ]
  },
  {
   "cell_type": "code",
   "execution_count": 250,
   "id": "c2744c6e",
   "metadata": {},
   "outputs": [],
   "source": [
    "device_data_of_unsuccessful_transactions = unsuccessful_transactions_of_single_users.groupby('device_type')['transaction_status'].value_counts().unstack().fillna(0)\n"
   ]
  },
  {
   "cell_type": "code",
   "execution_count": 293,
   "id": "94ad2c96",
   "metadata": {},
   "outputs": [
    {
     "data": {
      "text/html": [
       "<div>\n",
       "<style scoped>\n",
       "    .dataframe tbody tr th:only-of-type {\n",
       "        vertical-align: middle;\n",
       "    }\n",
       "\n",
       "    .dataframe tbody tr th {\n",
       "        vertical-align: top;\n",
       "    }\n",
       "\n",
       "    .dataframe thead th {\n",
       "        text-align: right;\n",
       "    }\n",
       "</style>\n",
       "<table border=\"1\" class=\"dataframe\">\n",
       "  <thead>\n",
       "    <tr style=\"text-align: right;\">\n",
       "      <th>transaction_status</th>\n",
       "      <th>Failed</th>\n",
       "      <th>Pending</th>\n",
       "      <th>Overall</th>\n",
       "      <th>relative_unsuccessful_percentage</th>\n",
       "    </tr>\n",
       "    <tr>\n",
       "      <th>device_type</th>\n",
       "      <th></th>\n",
       "      <th></th>\n",
       "      <th></th>\n",
       "      <th></th>\n",
       "    </tr>\n",
       "  </thead>\n",
       "  <tbody>\n",
       "    <tr>\n",
       "      <th>Android</th>\n",
       "      <td>46</td>\n",
       "      <td>33</td>\n",
       "      <td>79</td>\n",
       "      <td>54.109589</td>\n",
       "    </tr>\n",
       "    <tr>\n",
       "      <th>iOS</th>\n",
       "      <td>31</td>\n",
       "      <td>18</td>\n",
       "      <td>49</td>\n",
       "      <td>33.561644</td>\n",
       "    </tr>\n",
       "    <tr>\n",
       "      <th>Web</th>\n",
       "      <td>12</td>\n",
       "      <td>6</td>\n",
       "      <td>18</td>\n",
       "      <td>12.328767</td>\n",
       "    </tr>\n",
       "  </tbody>\n",
       "</table>\n",
       "</div>"
      ],
      "text/plain": [
       "transaction_status  Failed  Pending  Overall  relative_unsuccessful_percentage\n",
       "device_type                                                                   \n",
       "Android                 46       33       79                         54.109589\n",
       "iOS                     31       18       49                         33.561644\n",
       "Web                     12        6       18                         12.328767"
      ]
     },
     "execution_count": 293,
     "metadata": {},
     "output_type": "execute_result"
    }
   ],
   "source": [
    "device_data_of_unsuccessful_transactions[\"Overall\"] = device_data_of_unsuccessful_transactions[\"Failed\"]+ device_data_of_unsuccessful_transactions[\"Pending\"]\n",
    "device_data_of_unsuccessful_transactions[\"relative_unsuccessful_percentage\"] = (device_data_of_unsuccessful_transactions[\"Failed\"]+ device_data_of_unsuccessful_transactions[\"Pending\"])/ (device_data_of_unsuccessful_transactions[\"Overall\"].values.sum()) * 100\n",
    "device_data_of_unsuccessful_transactions.sort_values(by='relative_unsuccessful_percentage', ascending=False)\n",
    "#device_data_of_unsuccessful_transactions.relative_unsuccessful_percentage.apply(lambda x: f\"{x:.2f}%\").reset_index().rename(columns={'relative_unsuccessful_percentage': 'percentage'})\n",
    "\n"
   ]
  },
  {
   "cell_type": "code",
   "execution_count": 294,
   "id": "f291a9af",
   "metadata": {},
   "outputs": [
    {
     "data": {
      "text/html": [
       "<div>\n",
       "<style scoped>\n",
       "    .dataframe tbody tr th:only-of-type {\n",
       "        vertical-align: middle;\n",
       "    }\n",
       "\n",
       "    .dataframe tbody tr th {\n",
       "        vertical-align: top;\n",
       "    }\n",
       "\n",
       "    .dataframe thead th {\n",
       "        text-align: right;\n",
       "    }\n",
       "</style>\n",
       "<table border=\"1\" class=\"dataframe\">\n",
       "  <thead>\n",
       "    <tr style=\"text-align: right;\">\n",
       "      <th>transaction_status</th>\n",
       "      <th>Failed</th>\n",
       "      <th>Pending</th>\n",
       "      <th>Overall</th>\n",
       "      <th>relative_unsuccessful_percentage</th>\n",
       "    </tr>\n",
       "    <tr>\n",
       "      <th>device_type</th>\n",
       "      <th></th>\n",
       "      <th></th>\n",
       "      <th></th>\n",
       "      <th></th>\n",
       "    </tr>\n",
       "  </thead>\n",
       "  <tbody>\n",
       "    <tr>\n",
       "      <th>Android</th>\n",
       "      <td>46</td>\n",
       "      <td>33</td>\n",
       "      <td>79</td>\n",
       "      <td>54.109589</td>\n",
       "    </tr>\n",
       "    <tr>\n",
       "      <th>Web</th>\n",
       "      <td>12</td>\n",
       "      <td>6</td>\n",
       "      <td>18</td>\n",
       "      <td>12.328767</td>\n",
       "    </tr>\n",
       "    <tr>\n",
       "      <th>iOS</th>\n",
       "      <td>31</td>\n",
       "      <td>18</td>\n",
       "      <td>49</td>\n",
       "      <td>33.561644</td>\n",
       "    </tr>\n",
       "  </tbody>\n",
       "</table>\n",
       "</div>"
      ],
      "text/plain": [
       "transaction_status  Failed  Pending  Overall  relative_unsuccessful_percentage\n",
       "device_type                                                                   \n",
       "Android                 46       33       79                         54.109589\n",
       "Web                     12        6       18                         12.328767\n",
       "iOS                     31       18       49                         33.561644"
      ]
     },
     "execution_count": 294,
     "metadata": {},
     "output_type": "execute_result"
    }
   ],
   "source": [
    "device_data_of_unsuccessful_transactions"
   ]
  },
  {
   "cell_type": "markdown",
   "id": "82c7e024",
   "metadata": {},
   "source": [
    "## Understanding Overall success rate of the transactions"
   ]
  },
  {
   "cell_type": "code",
   "execution_count": 229,
   "id": "ceee11ea",
   "metadata": {},
   "outputs": [
    {
     "data": {
      "text/html": [
       "<div>\n",
       "<style scoped>\n",
       "    .dataframe tbody tr th:only-of-type {\n",
       "        vertical-align: middle;\n",
       "    }\n",
       "\n",
       "    .dataframe tbody tr th {\n",
       "        vertical-align: top;\n",
       "    }\n",
       "\n",
       "    .dataframe thead th {\n",
       "        text-align: right;\n",
       "    }\n",
       "</style>\n",
       "<table border=\"1\" class=\"dataframe\">\n",
       "  <thead>\n",
       "    <tr style=\"text-align: right;\">\n",
       "      <th></th>\n",
       "      <th>transaction_status</th>\n",
       "      <th>count</th>\n",
       "      <th>percentage</th>\n",
       "    </tr>\n",
       "  </thead>\n",
       "  <tbody>\n",
       "    <tr>\n",
       "      <th>2</th>\n",
       "      <td>Successful</td>\n",
       "      <td>4755</td>\n",
       "      <td>95.10</td>\n",
       "    </tr>\n",
       "    <tr>\n",
       "      <th>0</th>\n",
       "      <td>Failed</td>\n",
       "      <td>146</td>\n",
       "      <td>2.92</td>\n",
       "    </tr>\n",
       "    <tr>\n",
       "      <th>1</th>\n",
       "      <td>Pending</td>\n",
       "      <td>99</td>\n",
       "      <td>1.98</td>\n",
       "    </tr>\n",
       "  </tbody>\n",
       "</table>\n",
       "</div>"
      ],
      "text/plain": [
       "  transaction_status  count  percentage\n",
       "2         Successful   4755       95.10\n",
       "0             Failed    146        2.92\n",
       "1            Pending     99        1.98"
      ]
     },
     "execution_count": 229,
     "metadata": {},
     "output_type": "execute_result"
    }
   ],
   "source": [
    "success_metrics = df.groupby('transaction_status').size().reset_index(name='count')\n",
    "success_metrics['percentage'] = (success_metrics['count'] / success_metrics['count'].sum()) * 100\n",
    "success_metrics.sort_values(by='percentage', ascending=False, inplace=True)\n",
    "success_metrics\n"
   ]
  },
  {
   "cell_type": "markdown",
   "id": "e4537911",
   "metadata": {},
   "source": [
    "### Observations:\n",
    " 1. Success rate is 95% and failure rate is 5%.\n",
    " 2. credit card and upi shows high unsuccessful rate"
   ]
  },
  {
   "cell_type": "markdown",
   "id": "8323080d",
   "metadata": {},
   "source": [
    "# Understanding transaction Metrics"
   ]
  },
  {
   "cell_type": "code",
   "execution_count": 231,
   "id": "4991ff2e",
   "metadata": {},
   "outputs": [
    {
     "data": {
      "text/html": [
       "<div>\n",
       "<style scoped>\n",
       "    .dataframe tbody tr th:only-of-type {\n",
       "        vertical-align: middle;\n",
       "    }\n",
       "\n",
       "    .dataframe tbody tr th {\n",
       "        vertical-align: top;\n",
       "    }\n",
       "\n",
       "    .dataframe thead th {\n",
       "        text-align: right;\n",
       "    }\n",
       "</style>\n",
       "<table border=\"1\" class=\"dataframe\">\n",
       "  <thead>\n",
       "    <tr style=\"text-align: right;\">\n",
       "      <th></th>\n",
       "      <th>product_category</th>\n",
       "      <th>average_order_value</th>\n",
       "      <th>order_count</th>\n",
       "      <th>total_cost</th>\n",
       "    </tr>\n",
       "  </thead>\n",
       "  <tbody>\n",
       "    <tr>\n",
       "      <th>0</th>\n",
       "      <td>Streaming Service</td>\n",
       "      <td>4891.176120</td>\n",
       "      <td>295</td>\n",
       "      <td>1462461.66</td>\n",
       "    </tr>\n",
       "    <tr>\n",
       "      <th>1</th>\n",
       "      <td>Water Bill</td>\n",
       "      <td>5130.655128</td>\n",
       "      <td>271</td>\n",
       "      <td>1400668.85</td>\n",
       "    </tr>\n",
       "    <tr>\n",
       "      <th>2</th>\n",
       "      <td>Gas Bill</td>\n",
       "      <td>5446.079200</td>\n",
       "      <td>247</td>\n",
       "      <td>1361519.80</td>\n",
       "    </tr>\n",
       "    <tr>\n",
       "      <th>3</th>\n",
       "      <td>Education Fee</td>\n",
       "      <td>4717.908287</td>\n",
       "      <td>283</td>\n",
       "      <td>1349321.77</td>\n",
       "    </tr>\n",
       "    <tr>\n",
       "      <th>4</th>\n",
       "      <td>Movie Ticket</td>\n",
       "      <td>4916.911360</td>\n",
       "      <td>270</td>\n",
       "      <td>1337399.89</td>\n",
       "    </tr>\n",
       "    <tr>\n",
       "      <th>5</th>\n",
       "      <td>Hotel Booking</td>\n",
       "      <td>4816.072628</td>\n",
       "      <td>268</td>\n",
       "      <td>1319603.90</td>\n",
       "    </tr>\n",
       "    <tr>\n",
       "      <th>6</th>\n",
       "      <td>Food Delivery</td>\n",
       "      <td>5085.352162</td>\n",
       "      <td>259</td>\n",
       "      <td>1317106.21</td>\n",
       "    </tr>\n",
       "    <tr>\n",
       "      <th>7</th>\n",
       "      <td>Taxi Fare</td>\n",
       "      <td>5103.774375</td>\n",
       "      <td>253</td>\n",
       "      <td>1306566.24</td>\n",
       "    </tr>\n",
       "    <tr>\n",
       "      <th>8</th>\n",
       "      <td>Rent Payment</td>\n",
       "      <td>5013.002749</td>\n",
       "      <td>247</td>\n",
       "      <td>1258263.69</td>\n",
       "    </tr>\n",
       "    <tr>\n",
       "      <th>9</th>\n",
       "      <td>Internet Bill</td>\n",
       "      <td>5352.695579</td>\n",
       "      <td>228</td>\n",
       "      <td>1247178.07</td>\n",
       "    </tr>\n",
       "  </tbody>\n",
       "</table>\n",
       "</div>"
      ],
      "text/plain": [
       "    product_category  average_order_value  order_count  total_cost\n",
       "0  Streaming Service          4891.176120          295  1462461.66\n",
       "1         Water Bill          5130.655128          271  1400668.85\n",
       "2           Gas Bill          5446.079200          247  1361519.80\n",
       "3      Education Fee          4717.908287          283  1349321.77\n",
       "4       Movie Ticket          4916.911360          270  1337399.89\n",
       "5      Hotel Booking          4816.072628          268  1319603.90\n",
       "6      Food Delivery          5085.352162          259  1317106.21\n",
       "7          Taxi Fare          5103.774375          253  1306566.24\n",
       "8       Rent Payment          5013.002749          247  1258263.69\n",
       "9      Internet Bill          5352.695579          228  1247178.07"
      ]
     },
     "execution_count": 231,
     "metadata": {},
     "output_type": "execute_result"
    }
   ],
   "source": [
    "total_productwise_cost = df.groupby('product_category')['product_amount'].sum().reset_index(name='total_cost')\n",
    "average_order_value_productwise = df.groupby('product_category')['product_amount'].mean().reset_index(name='average_order_value')\n",
    "order_count_productwise = df.groupby('product_category')['user_id'].nunique().reset_index(name='order_count')\n",
    "product_category_metrics  = pd.merge(average_order_value_productwise,order_count_productwise,on = 'product_category',how='left')\n",
    "product_category_metrics = pd.merge(product_category_metrics, total_productwise_cost, on='product_category', how='left')\n",
    "product_category_metrics.sort_values(by='total_cost', ascending=False, inplace=True)\n",
    "product_category_metrics.reset_index(drop=True, inplace=True)\n",
    "product_category_metrics.head(10)"
   ]
  },
  {
   "cell_type": "markdown",
   "id": "437de5a7",
   "metadata": {},
   "source": [
    "### Revenue Metrics of successful transactions"
   ]
  },
  {
   "cell_type": "code",
   "execution_count": 295,
   "id": "32cbd54b",
   "metadata": {},
   "outputs": [],
   "source": [
    "successful_transactions = df[df['transaction_status'] == 'Successful']"
   ]
  },
  {
   "cell_type": "code",
   "execution_count": 423,
   "id": "f14500c2",
   "metadata": {},
   "outputs": [],
   "source": [
    "inflow = successful_transactions.transaction_fee.sum()\n",
    "outflow = successful_transactions.cashback.sum()  # Assuming loyalty points are converted to cash at a rate of 1 point = 0.01 currency unit\n",
    "average_order_value = successful_transactions.product_amount.mean()\n",
    "net_revenue = inflow - outflow"
   ]
  },
  {
   "cell_type": "code",
   "execution_count": 424,
   "id": "207f7558",
   "metadata": {},
   "outputs": [
    {
     "data": {
      "text/html": [
       "<div>\n",
       "<style scoped>\n",
       "    .dataframe tbody tr th:only-of-type {\n",
       "        vertical-align: middle;\n",
       "    }\n",
       "\n",
       "    .dataframe tbody tr th {\n",
       "        vertical-align: top;\n",
       "    }\n",
       "\n",
       "    .dataframe thead th {\n",
       "        text-align: right;\n",
       "    }\n",
       "</style>\n",
       "<table border=\"1\" class=\"dataframe\">\n",
       "  <thead>\n",
       "    <tr style=\"text-align: right;\">\n",
       "      <th></th>\n",
       "      <th>inflow</th>\n",
       "      <th>outflow</th>\n",
       "      <th>net_revenue</th>\n",
       "      <th>average_order_value</th>\n",
       "    </tr>\n",
       "  </thead>\n",
       "  <tbody>\n",
       "    <tr>\n",
       "      <th>0</th>\n",
       "      <td>119920.69</td>\n",
       "      <td>241451.82</td>\n",
       "      <td>-121531.13</td>\n",
       "      <td>4954.58</td>\n",
       "    </tr>\n",
       "  </tbody>\n",
       "</table>\n",
       "</div>"
      ],
      "text/plain": [
       "      inflow    outflow  net_revenue  average_order_value\n",
       "0  119920.69  241451.82   -121531.13              4954.58"
      ]
     },
     "execution_count": 424,
     "metadata": {},
     "output_type": "execute_result"
    }
   ],
   "source": [
    "pd.DataFrame({\n",
    "    'inflow': [inflow],'outflow': [outflow], 'net_revenue': [net_revenue],'average_order_value': [average_order_value]}).round(2)  "
   ]
  },
  {
   "cell_type": "code",
   "execution_count": 331,
   "id": "b15e1bef",
   "metadata": {},
   "outputs": [
    {
     "data": {
      "text/html": [
       "<div>\n",
       "<style scoped>\n",
       "    .dataframe tbody tr th:only-of-type {\n",
       "        vertical-align: middle;\n",
       "    }\n",
       "\n",
       "    .dataframe tbody tr th {\n",
       "        vertical-align: top;\n",
       "    }\n",
       "\n",
       "    .dataframe thead th {\n",
       "        text-align: right;\n",
       "    }\n",
       "</style>\n",
       "<table border=\"1\" class=\"dataframe\">\n",
       "  <thead>\n",
       "    <tr style=\"text-align: right;\">\n",
       "      <th></th>\n",
       "      <th>idx</th>\n",
       "      <th>transaction_id</th>\n",
       "      <th>user_id</th>\n",
       "      <th>transaction_date</th>\n",
       "      <th>product_category</th>\n",
       "      <th>product_name</th>\n",
       "      <th>merchant_name</th>\n",
       "      <th>product_amount</th>\n",
       "      <th>transaction_fee</th>\n",
       "      <th>cashback</th>\n",
       "      <th>loyalty_points</th>\n",
       "      <th>payment_method</th>\n",
       "      <th>transaction_status</th>\n",
       "      <th>merchant_id</th>\n",
       "      <th>device_type</th>\n",
       "      <th>location</th>\n",
       "    </tr>\n",
       "  </thead>\n",
       "  <tbody>\n",
       "    <tr>\n",
       "      <th>0</th>\n",
       "      <td>1</td>\n",
       "      <td>4dac3ea3-6492-46ec-80b8-dc45c3ad0b14</td>\n",
       "      <td>USER_05159</td>\n",
       "      <td>2023-08-19 03:32:00</td>\n",
       "      <td>Rent Payment</td>\n",
       "      <td>2BHK Flat Deposit</td>\n",
       "      <td>Airbnb</td>\n",
       "      <td>1525.39</td>\n",
       "      <td>36.69</td>\n",
       "      <td>19.19</td>\n",
       "      <td>186</td>\n",
       "      <td>Debit Card</td>\n",
       "      <td>Successful</td>\n",
       "      <td>MERCH_0083</td>\n",
       "      <td>iOS</td>\n",
       "      <td>Urban</td>\n",
       "    </tr>\n",
       "    <tr>\n",
       "      <th>1</th>\n",
       "      <td>2</td>\n",
       "      <td>a903ed9f-eb84-47e7-b8aa-fd1786c919cf</td>\n",
       "      <td>USER_07204</td>\n",
       "      <td>2023-08-19 04:37:00</td>\n",
       "      <td>Gas Bill</td>\n",
       "      <td>Commercial Gas Connection</td>\n",
       "      <td>Adani Gas</td>\n",
       "      <td>1495.40</td>\n",
       "      <td>28.19</td>\n",
       "      <td>89.99</td>\n",
       "      <td>182</td>\n",
       "      <td>UPI</td>\n",
       "      <td>Successful</td>\n",
       "      <td>MERCH_0163</td>\n",
       "      <td>iOS</td>\n",
       "      <td>Urban</td>\n",
       "    </tr>\n",
       "    <tr>\n",
       "      <th>2</th>\n",
       "      <td>3</td>\n",
       "      <td>2a393013-733c-4add-9f09-bed1eeb33676</td>\n",
       "      <td>USER_00903</td>\n",
       "      <td>2023-08-19 05:52:00</td>\n",
       "      <td>Bus Ticket</td>\n",
       "      <td>Semi-Sleeper</td>\n",
       "      <td>MakeMyTrip Bus</td>\n",
       "      <td>1267.71</td>\n",
       "      <td>11.36</td>\n",
       "      <td>95.70</td>\n",
       "      <td>994</td>\n",
       "      <td>UPI</td>\n",
       "      <td>Successful</td>\n",
       "      <td>MERCH_0320</td>\n",
       "      <td>iOS</td>\n",
       "      <td>Urban</td>\n",
       "    </tr>\n",
       "  </tbody>\n",
       "</table>\n",
       "</div>"
      ],
      "text/plain": [
       "   idx                        transaction_id     user_id    transaction_date  \\\n",
       "0    1  4dac3ea3-6492-46ec-80b8-dc45c3ad0b14  USER_05159 2023-08-19 03:32:00   \n",
       "1    2  a903ed9f-eb84-47e7-b8aa-fd1786c919cf  USER_07204 2023-08-19 04:37:00   \n",
       "2    3  2a393013-733c-4add-9f09-bed1eeb33676  USER_00903 2023-08-19 05:52:00   \n",
       "\n",
       "  product_category               product_name   merchant_name  product_amount  \\\n",
       "0     Rent Payment          2BHK Flat Deposit          Airbnb         1525.39   \n",
       "1         Gas Bill  Commercial Gas Connection       Adani Gas         1495.40   \n",
       "2       Bus Ticket               Semi-Sleeper  MakeMyTrip Bus         1267.71   \n",
       "\n",
       "   transaction_fee  cashback  loyalty_points payment_method  \\\n",
       "0            36.69     19.19             186     Debit Card   \n",
       "1            28.19     89.99             182            UPI   \n",
       "2            11.36     95.70             994            UPI   \n",
       "\n",
       "  transaction_status merchant_id device_type location  \n",
       "0         Successful  MERCH_0083         iOS    Urban  \n",
       "1         Successful  MERCH_0163         iOS    Urban  \n",
       "2         Successful  MERCH_0320         iOS    Urban  "
      ]
     },
     "execution_count": 331,
     "metadata": {},
     "output_type": "execute_result"
    }
   ],
   "source": [
    "successful_transactions.head(3)"
   ]
  },
  {
   "cell_type": "markdown",
   "id": "44af7807",
   "metadata": {},
   "source": [
    "### Fraud Analysis"
   ]
  },
  {
   "cell_type": "code",
   "execution_count": 439,
   "id": "ed409cac",
   "metadata": {},
   "outputs": [],
   "source": [
    "revenue_data = pd.DataFrame()\n",
    "revenue_data['user_id'] = successful_transactions.user_id\n",
    "revenue_data['transaction_id'] = successful_transactions.transaction_id\n",
    "revenue_data['product_amount'] = successful_transactions.product_amount\n",
    "revenue_data['transaction_fee'] = successful_transactions.transaction_fee\n",
    "revenue_data['cashback'] = successful_transactions.cashback\n",
    "revenue_data['loyality_points'] = successful_transactions.loyalty_points"
   ]
  },
  {
   "cell_type": "code",
   "execution_count": 440,
   "id": "8a1a0271",
   "metadata": {},
   "outputs": [
    {
     "data": {
      "text/html": [
       "<div>\n",
       "<style scoped>\n",
       "    .dataframe tbody tr th:only-of-type {\n",
       "        vertical-align: middle;\n",
       "    }\n",
       "\n",
       "    .dataframe tbody tr th {\n",
       "        vertical-align: top;\n",
       "    }\n",
       "\n",
       "    .dataframe thead th {\n",
       "        text-align: right;\n",
       "    }\n",
       "</style>\n",
       "<table border=\"1\" class=\"dataframe\">\n",
       "  <thead>\n",
       "    <tr style=\"text-align: right;\">\n",
       "      <th></th>\n",
       "      <th>user_id</th>\n",
       "      <th>transaction_id</th>\n",
       "      <th>product_amount</th>\n",
       "      <th>transaction_fee</th>\n",
       "      <th>cashback</th>\n",
       "      <th>loyality_points</th>\n",
       "    </tr>\n",
       "  </thead>\n",
       "  <tbody>\n",
       "    <tr>\n",
       "      <th>0</th>\n",
       "      <td>USER_05159</td>\n",
       "      <td>4dac3ea3-6492-46ec-80b8-dc45c3ad0b14</td>\n",
       "      <td>1525.39</td>\n",
       "      <td>36.69</td>\n",
       "      <td>19.19</td>\n",
       "      <td>186</td>\n",
       "    </tr>\n",
       "    <tr>\n",
       "      <th>1</th>\n",
       "      <td>USER_07204</td>\n",
       "      <td>a903ed9f-eb84-47e7-b8aa-fd1786c919cf</td>\n",
       "      <td>1495.40</td>\n",
       "      <td>28.19</td>\n",
       "      <td>89.99</td>\n",
       "      <td>182</td>\n",
       "    </tr>\n",
       "    <tr>\n",
       "      <th>2</th>\n",
       "      <td>USER_00903</td>\n",
       "      <td>2a393013-733c-4add-9f09-bed1eeb33676</td>\n",
       "      <td>1267.71</td>\n",
       "      <td>11.36</td>\n",
       "      <td>95.70</td>\n",
       "      <td>994</td>\n",
       "    </tr>\n",
       "    <tr>\n",
       "      <th>3</th>\n",
       "      <td>USER_01769</td>\n",
       "      <td>9a07ad19-4673-4794-9cd2-9b139f39c715</td>\n",
       "      <td>9202.63</td>\n",
       "      <td>6.41</td>\n",
       "      <td>82.24</td>\n",
       "      <td>409</td>\n",
       "    </tr>\n",
       "    <tr>\n",
       "      <th>4</th>\n",
       "      <td>USER_03544</td>\n",
       "      <td>76418260-c985-4011-979d-0914604d0d68</td>\n",
       "      <td>3100.58</td>\n",
       "      <td>41.15</td>\n",
       "      <td>40.47</td>\n",
       "      <td>837</td>\n",
       "    </tr>\n",
       "    <tr>\n",
       "      <th>...</th>\n",
       "      <td>...</td>\n",
       "      <td>...</td>\n",
       "      <td>...</td>\n",
       "      <td>...</td>\n",
       "      <td>...</td>\n",
       "      <td>...</td>\n",
       "    </tr>\n",
       "    <tr>\n",
       "      <th>4995</th>\n",
       "      <td>USER_03918</td>\n",
       "      <td>2cad1456-e6dd-4d0f-9463-a071a462c2ae</td>\n",
       "      <td>9496.45</td>\n",
       "      <td>37.25</td>\n",
       "      <td>87.47</td>\n",
       "      <td>284</td>\n",
       "    </tr>\n",
       "    <tr>\n",
       "      <th>4996</th>\n",
       "      <td>USER_09281</td>\n",
       "      <td>df3984f6-cf9d-418f-ad2e-f9d4fff69cd5</td>\n",
       "      <td>710.40</td>\n",
       "      <td>14.01</td>\n",
       "      <td>55.24</td>\n",
       "      <td>538</td>\n",
       "    </tr>\n",
       "    <tr>\n",
       "      <th>4997</th>\n",
       "      <td>USER_05939</td>\n",
       "      <td>1c4cd450-785d-4f4c-a08d-cb7c17db9b0c</td>\n",
       "      <td>2750.06</td>\n",
       "      <td>48.69</td>\n",
       "      <td>72.10</td>\n",
       "      <td>652</td>\n",
       "    </tr>\n",
       "    <tr>\n",
       "      <th>4998</th>\n",
       "      <td>USER_09925</td>\n",
       "      <td>f88d6fb3-d747-4963-82f3-92e181a93771</td>\n",
       "      <td>9976.19</td>\n",
       "      <td>21.96</td>\n",
       "      <td>40.44</td>\n",
       "      <td>614</td>\n",
       "    </tr>\n",
       "    <tr>\n",
       "      <th>4999</th>\n",
       "      <td>USER_08419</td>\n",
       "      <td>5e1a9245-9f2b-4ff9-bd56-26fd20c8eae2</td>\n",
       "      <td>1683.63</td>\n",
       "      <td>11.43</td>\n",
       "      <td>70.44</td>\n",
       "      <td>936</td>\n",
       "    </tr>\n",
       "  </tbody>\n",
       "</table>\n",
       "<p>4755 rows × 6 columns</p>\n",
       "</div>"
      ],
      "text/plain": [
       "         user_id                        transaction_id  product_amount  \\\n",
       "0     USER_05159  4dac3ea3-6492-46ec-80b8-dc45c3ad0b14         1525.39   \n",
       "1     USER_07204  a903ed9f-eb84-47e7-b8aa-fd1786c919cf         1495.40   \n",
       "2     USER_00903  2a393013-733c-4add-9f09-bed1eeb33676         1267.71   \n",
       "3     USER_01769  9a07ad19-4673-4794-9cd2-9b139f39c715         9202.63   \n",
       "4     USER_03544  76418260-c985-4011-979d-0914604d0d68         3100.58   \n",
       "...          ...                                   ...             ...   \n",
       "4995  USER_03918  2cad1456-e6dd-4d0f-9463-a071a462c2ae         9496.45   \n",
       "4996  USER_09281  df3984f6-cf9d-418f-ad2e-f9d4fff69cd5          710.40   \n",
       "4997  USER_05939  1c4cd450-785d-4f4c-a08d-cb7c17db9b0c         2750.06   \n",
       "4998  USER_09925  f88d6fb3-d747-4963-82f3-92e181a93771         9976.19   \n",
       "4999  USER_08419  5e1a9245-9f2b-4ff9-bd56-26fd20c8eae2         1683.63   \n",
       "\n",
       "      transaction_fee  cashback  loyality_points  \n",
       "0               36.69     19.19              186  \n",
       "1               28.19     89.99              182  \n",
       "2               11.36     95.70              994  \n",
       "3                6.41     82.24              409  \n",
       "4               41.15     40.47              837  \n",
       "...               ...       ...              ...  \n",
       "4995            37.25     87.47              284  \n",
       "4996            14.01     55.24              538  \n",
       "4997            48.69     72.10              652  \n",
       "4998            21.96     40.44              614  \n",
       "4999            11.43     70.44              936  \n",
       "\n",
       "[4755 rows x 6 columns]"
      ]
     },
     "execution_count": 440,
     "metadata": {},
     "output_type": "execute_result"
    }
   ],
   "source": [
    "revenue_data"
   ]
  },
  {
   "cell_type": "code",
   "execution_count": 441,
   "id": "fffb268a",
   "metadata": {},
   "outputs": [],
   "source": [
    "revenue_data['profitability_ratio'] = (revenue_data['transaction_fee']-revenue_data['cashback']-0.1*revenue_data['loyality_points'])/ revenue_data['transaction_fee']"
   ]
  },
  {
   "cell_type": "code",
   "execution_count": 442,
   "id": "94e09616",
   "metadata": {},
   "outputs": [
    {
     "data": {
      "text/html": [
       "<div>\n",
       "<style scoped>\n",
       "    .dataframe tbody tr th:only-of-type {\n",
       "        vertical-align: middle;\n",
       "    }\n",
       "\n",
       "    .dataframe tbody tr th {\n",
       "        vertical-align: top;\n",
       "    }\n",
       "\n",
       "    .dataframe thead th {\n",
       "        text-align: right;\n",
       "    }\n",
       "</style>\n",
       "<table border=\"1\" class=\"dataframe\">\n",
       "  <thead>\n",
       "    <tr style=\"text-align: right;\">\n",
       "      <th></th>\n",
       "      <th>product_amount</th>\n",
       "      <th>transaction_fee</th>\n",
       "      <th>cashback</th>\n",
       "      <th>loyality_points</th>\n",
       "      <th>profitability_ratio</th>\n",
       "    </tr>\n",
       "  </thead>\n",
       "  <tbody>\n",
       "    <tr>\n",
       "      <th>count</th>\n",
       "      <td>4755.000000</td>\n",
       "      <td>4755.000000</td>\n",
       "      <td>4755.000000</td>\n",
       "      <td>4755.000000</td>\n",
       "      <td>4755.000000</td>\n",
       "    </tr>\n",
       "    <tr>\n",
       "      <th>mean</th>\n",
       "      <td>4954.578111</td>\n",
       "      <td>25.219914</td>\n",
       "      <td>50.778511</td>\n",
       "      <td>498.706625</td>\n",
       "      <td>-16.039713</td>\n",
       "    </tr>\n",
       "    <tr>\n",
       "      <th>std</th>\n",
       "      <td>2880.868656</td>\n",
       "      <td>14.526700</td>\n",
       "      <td>28.526157</td>\n",
       "      <td>289.309734</td>\n",
       "      <td>189.944001</td>\n",
       "    </tr>\n",
       "    <tr>\n",
       "      <th>min</th>\n",
       "      <td>10.090000</td>\n",
       "      <td>0.010000</td>\n",
       "      <td>0.000000</td>\n",
       "      <td>0.000000</td>\n",
       "      <td>-11125.000000</td>\n",
       "    </tr>\n",
       "    <tr>\n",
       "      <th>25%</th>\n",
       "      <td>2450.965000</td>\n",
       "      <td>12.715000</td>\n",
       "      <td>26.680000</td>\n",
       "      <td>246.000000</td>\n",
       "      <td>-7.012131</td>\n",
       "    </tr>\n",
       "    <tr>\n",
       "      <th>50%</th>\n",
       "      <td>4944.250000</td>\n",
       "      <td>25.090000</td>\n",
       "      <td>51.550000</td>\n",
       "      <td>503.000000</td>\n",
       "      <td>-3.014637</td>\n",
       "    </tr>\n",
       "    <tr>\n",
       "      <th>75%</th>\n",
       "      <td>7433.885000</td>\n",
       "      <td>37.990000</td>\n",
       "      <td>75.170000</td>\n",
       "      <td>749.000000</td>\n",
       "      <td>-1.485827</td>\n",
       "    </tr>\n",
       "    <tr>\n",
       "      <th>max</th>\n",
       "      <td>9996.950000</td>\n",
       "      <td>49.990000</td>\n",
       "      <td>100.000000</td>\n",
       "      <td>999.000000</td>\n",
       "      <td>0.939472</td>\n",
       "    </tr>\n",
       "  </tbody>\n",
       "</table>\n",
       "</div>"
      ],
      "text/plain": [
       "       product_amount  transaction_fee     cashback  loyality_points  \\\n",
       "count     4755.000000      4755.000000  4755.000000      4755.000000   \n",
       "mean      4954.578111        25.219914    50.778511       498.706625   \n",
       "std       2880.868656        14.526700    28.526157       289.309734   \n",
       "min         10.090000         0.010000     0.000000         0.000000   \n",
       "25%       2450.965000        12.715000    26.680000       246.000000   \n",
       "50%       4944.250000        25.090000    51.550000       503.000000   \n",
       "75%       7433.885000        37.990000    75.170000       749.000000   \n",
       "max       9996.950000        49.990000   100.000000       999.000000   \n",
       "\n",
       "       profitability_ratio  \n",
       "count          4755.000000  \n",
       "mean            -16.039713  \n",
       "std             189.944001  \n",
       "min          -11125.000000  \n",
       "25%              -7.012131  \n",
       "50%              -3.014637  \n",
       "75%              -1.485827  \n",
       "max               0.939472  "
      ]
     },
     "execution_count": 442,
     "metadata": {},
     "output_type": "execute_result"
    }
   ],
   "source": [
    "revenue_data.describe()"
   ]
  },
  {
   "cell_type": "code",
   "execution_count": 443,
   "id": "477ade1e",
   "metadata": {},
   "outputs": [
    {
     "data": {
      "text/plain": [
       "<Axes: xlabel='profitability_ratio'>"
      ]
     },
     "execution_count": 443,
     "metadata": {},
     "output_type": "execute_result"
    },
    {
     "data": {
      "image/png": "[encoded data removed]",
      "text/plain": [
       "<Figure size 640x480 with 1 Axes>"
      ]
     },
     "metadata": {},
     "output_type": "display_data"
    }
   ],
   "source": [
    "sns.boxplot(x = 'profitability_ratio', data=revenue_data)"
   ]
  },
  {
   "cell_type": "code",
   "execution_count": 455,
   "id": "2221ed42",
   "metadata": {},
   "outputs": [
    {
     "data": {
      "text/html": [
       "<div>\n",
       "<style scoped>\n",
       "    .dataframe tbody tr th:only-of-type {\n",
       "        vertical-align: middle;\n",
       "    }\n",
       "\n",
       "    .dataframe tbody tr th {\n",
       "        vertical-align: top;\n",
       "    }\n",
       "\n",
       "    .dataframe thead th {\n",
       "        text-align: right;\n",
       "    }\n",
       "</style>\n",
       "<table border=\"1\" class=\"dataframe\">\n",
       "  <thead>\n",
       "    <tr style=\"text-align: right;\">\n",
       "      <th></th>\n",
       "      <th>user_id</th>\n",
       "      <th>transaction_id</th>\n",
       "      <th>product_amount</th>\n",
       "      <th>transaction_fee</th>\n",
       "      <th>cashback</th>\n",
       "      <th>loyality_points</th>\n",
       "      <th>profitability_ratio</th>\n",
       "    </tr>\n",
       "  </thead>\n",
       "  <tbody>\n",
       "    <tr>\n",
       "      <th>374</th>\n",
       "      <td>USER_04754</td>\n",
       "      <td>c7480c4e-c8b9-481d-8c3d-e4267c5c0533</td>\n",
       "      <td>5060.74</td>\n",
       "      <td>0.04</td>\n",
       "      <td>62.14</td>\n",
       "      <td>39</td>\n",
       "      <td>-1650.0</td>\n",
       "    </tr>\n",
       "    <tr>\n",
       "      <th>1374</th>\n",
       "      <td>USER_03193</td>\n",
       "      <td>bc679658-be33-4d5b-88da-726c264d026d</td>\n",
       "      <td>6518.42</td>\n",
       "      <td>0.02</td>\n",
       "      <td>32.97</td>\n",
       "      <td>812</td>\n",
       "      <td>-5707.5</td>\n",
       "    </tr>\n",
       "    <tr>\n",
       "      <th>4885</th>\n",
       "      <td>USER_07952</td>\n",
       "      <td>924cbba2-f9f2-4644-b0eb-5ce83735f0f6</td>\n",
       "      <td>1702.97</td>\n",
       "      <td>0.01</td>\n",
       "      <td>81.26</td>\n",
       "      <td>300</td>\n",
       "      <td>-11125.0</td>\n",
       "    </tr>\n",
       "  </tbody>\n",
       "</table>\n",
       "</div>"
      ],
      "text/plain": [
       "         user_id                        transaction_id  product_amount  \\\n",
       "374   USER_04754  c7480c4e-c8b9-481d-8c3d-e4267c5c0533         5060.74   \n",
       "1374  USER_03193  bc679658-be33-4d5b-88da-726c264d026d         6518.42   \n",
       "4885  USER_07952  924cbba2-f9f2-4644-b0eb-5ce83735f0f6         1702.97   \n",
       "\n",
       "      transaction_fee  cashback  loyality_points  profitability_ratio  \n",
       "374              0.04     62.14               39              -1650.0  \n",
       "1374             0.02     32.97              812              -5707.5  \n",
       "4885             0.01     81.26              300             -11125.0  "
      ]
     },
     "execution_count": 455,
     "metadata": {},
     "output_type": "execute_result"
    }
   ],
   "source": [
    "# potential fraud outliers is assumed to be those with a profitability ratio below the 20th percentile of the profitability ratio\n",
    "min_considerable_value = -1500\n",
    "revenue_data[revenue_data['profitability_ratio'] < min_considerable_value]"
   ]
  },
  {
   "cell_type": "code",
   "execution_count": 458,
   "id": "085830bb",
   "metadata": {},
   "outputs": [],
   "source": [
    "#"
   ]
  },
  {
   "cell_type": "code",
   "execution_count": 459,
   "id": "32b44c0e",
   "metadata": {},
   "outputs": [],
   "source": [
    "fraud_outliers = revenue_data[revenue_data['profitability_ratio'] < min_considerable_value].transaction_id.values"
   ]
  },
  {
   "cell_type": "code",
   "execution_count": 460,
   "id": "340af69d",
   "metadata": {},
   "outputs": [
    {
     "data": {
      "text/html": [
       "<div>\n",
       "<style scoped>\n",
       "    .dataframe tbody tr th:only-of-type {\n",
       "        vertical-align: middle;\n",
       "    }\n",
       "\n",
       "    .dataframe tbody tr th {\n",
       "        vertical-align: top;\n",
       "    }\n",
       "\n",
       "    .dataframe thead th {\n",
       "        text-align: right;\n",
       "    }\n",
       "</style>\n",
       "<table border=\"1\" class=\"dataframe\">\n",
       "  <thead>\n",
       "    <tr style=\"text-align: right;\">\n",
       "      <th></th>\n",
       "      <th>idx</th>\n",
       "      <th>transaction_id</th>\n",
       "      <th>user_id</th>\n",
       "      <th>transaction_date</th>\n",
       "      <th>product_category</th>\n",
       "      <th>product_name</th>\n",
       "      <th>merchant_name</th>\n",
       "      <th>product_amount</th>\n",
       "      <th>transaction_fee</th>\n",
       "      <th>cashback</th>\n",
       "      <th>loyalty_points</th>\n",
       "      <th>payment_method</th>\n",
       "      <th>transaction_status</th>\n",
       "      <th>merchant_id</th>\n",
       "      <th>device_type</th>\n",
       "      <th>location</th>\n",
       "    </tr>\n",
       "  </thead>\n",
       "  <tbody>\n",
       "    <tr>\n",
       "      <th>374</th>\n",
       "      <td>375</td>\n",
       "      <td>c7480c4e-c8b9-481d-8c3d-e4267c5c0533</td>\n",
       "      <td>USER_04754</td>\n",
       "      <td>2023-09-16 15:09:00</td>\n",
       "      <td>Education Fee</td>\n",
       "      <td>Data Science Bootcamp</td>\n",
       "      <td>Coursera</td>\n",
       "      <td>5060.74</td>\n",
       "      <td>0.04</td>\n",
       "      <td>62.14</td>\n",
       "      <td>39</td>\n",
       "      <td>UPI</td>\n",
       "      <td>Successful</td>\n",
       "      <td>MERCH_0585</td>\n",
       "      <td>Android</td>\n",
       "      <td>Urban</td>\n",
       "    </tr>\n",
       "    <tr>\n",
       "      <th>1374</th>\n",
       "      <td>1375</td>\n",
       "      <td>bc679658-be33-4d5b-88da-726c264d026d</td>\n",
       "      <td>USER_03193</td>\n",
       "      <td>2023-11-28 18:51:00</td>\n",
       "      <td>Water Bill</td>\n",
       "      <td>Tanker Supply</td>\n",
       "      <td>Delhi Jal Board</td>\n",
       "      <td>6518.42</td>\n",
       "      <td>0.02</td>\n",
       "      <td>32.97</td>\n",
       "      <td>812</td>\n",
       "      <td>Debit Card</td>\n",
       "      <td>Successful</td>\n",
       "      <td>MERCH_0886</td>\n",
       "      <td>Android</td>\n",
       "      <td>Suburban</td>\n",
       "    </tr>\n",
       "    <tr>\n",
       "      <th>4885</th>\n",
       "      <td>4886</td>\n",
       "      <td>924cbba2-f9f2-4644-b0eb-5ce83735f0f6</td>\n",
       "      <td>USER_07952</td>\n",
       "      <td>2024-08-10 15:00:00</td>\n",
       "      <td>Hotel Booking</td>\n",
       "      <td>Villa</td>\n",
       "      <td>Airbnb</td>\n",
       "      <td>1702.97</td>\n",
       "      <td>0.01</td>\n",
       "      <td>81.26</td>\n",
       "      <td>300</td>\n",
       "      <td>Bank Transfer</td>\n",
       "      <td>Successful</td>\n",
       "      <td>MERCH_0572</td>\n",
       "      <td>iOS</td>\n",
       "      <td>Urban</td>\n",
       "    </tr>\n",
       "  </tbody>\n",
       "</table>\n",
       "</div>"
      ],
      "text/plain": [
       "       idx                        transaction_id     user_id  \\\n",
       "374    375  c7480c4e-c8b9-481d-8c3d-e4267c5c0533  USER_04754   \n",
       "1374  1375  bc679658-be33-4d5b-88da-726c264d026d  USER_03193   \n",
       "4885  4886  924cbba2-f9f2-4644-b0eb-5ce83735f0f6  USER_07952   \n",
       "\n",
       "        transaction_date product_category           product_name  \\\n",
       "374  2023-09-16 15:09:00    Education Fee  Data Science Bootcamp   \n",
       "1374 2023-11-28 18:51:00       Water Bill          Tanker Supply   \n",
       "4885 2024-08-10 15:00:00    Hotel Booking                  Villa   \n",
       "\n",
       "        merchant_name  product_amount  transaction_fee  cashback  \\\n",
       "374          Coursera         5060.74             0.04     62.14   \n",
       "1374  Delhi Jal Board         6518.42             0.02     32.97   \n",
       "4885           Airbnb         1702.97             0.01     81.26   \n",
       "\n",
       "      loyalty_points payment_method transaction_status merchant_id  \\\n",
       "374               39            UPI         Successful  MERCH_0585   \n",
       "1374             812     Debit Card         Successful  MERCH_0886   \n",
       "4885             300  Bank Transfer         Successful  MERCH_0572   \n",
       "\n",
       "     device_type  location  \n",
       "374      Android     Urban  \n",
       "1374     Android  Suburban  \n",
       "4885         iOS     Urban  "
      ]
     },
     "execution_count": 460,
     "metadata": {},
     "output_type": "execute_result"
    }
   ],
   "source": [
    "df[df['transaction_id'].isin(fraud_outliers)]"
   ]
  },
  {
   "cell_type": "markdown",
   "id": "82b6e207",
   "metadata": {},
   "source": [
    "### Conclustion: \n",
    "1. Transaction fee is lower than cashback which incurs netloss of 3,58,666/- (1,21,531/- if loyality points are excluded)\n",
    "2. Defined profitability metrics to identify frauds patterns in the user, whose relative transaction fee is low but cashback and loyality points are high."
   ]
  },
  {
   "cell_type": "code",
   "execution_count": null,
   "id": "955d91cd",
   "metadata": {},
   "outputs": [],
   "source": []
  }
 ],
 "metadata": {
  "kernelspec": {
   "display_name": "Python 3 (ipykernel)",
   "language": "python",
   "name": "python3"
  },
  "language_info": {
   "codemirror_mode": {
    "name": "ipython",
    "version": 3
   },
   "file_extension": ".py",
   "mimetype": "text/x-python",
   "name": "python",
   "nbconvert_exporter": "python",
   "pygments_lexer": "ipython3",
   "version": "3.11.13"
  }
 },
 "nbformat": 4,
 "nbformat_minor": 5
}
